{
  "nbformat": 4,
  "nbformat_minor": 0,
  "metadata": {
    "colab": {
      "name": "Untitled0.ipynb",
      "provenance": [],
      "authorship_tag": "ABX9TyO0iua4X2Qd1QYUXWNs7HUN",
      "include_colab_link": true
    },
    "kernelspec": {
      "name": "python3",
      "display_name": "Python 3"
    }
  },
  "cells": [
    {
      "cell_type": "markdown",
      "metadata": {
        "id": "view-in-github",
        "colab_type": "text"
      },
      "source": [
        "<a href=\"https://colab.research.google.com/github/luca-heltai/numerical-analysis-2020-2021/blob/master/notebooks/04-interpolation-2d.ipynb\" target=\"_parent\"><img src=\"https://colab.research.google.com/assets/colab-badge.svg\" alt=\"Open In Colab\"/></a>"
      ]
    },
    {
      "cell_type": "code",
      "metadata": {
        "id": "4S77ZNnvbtnS"
      },
      "source": [
        "import numpy as np"
      ],
      "execution_count": 1,
      "outputs": []
    },
    {
      "cell_type": "code",
      "metadata": {
        "id": "5LQAVU_SdeVq"
      },
      "source": [
        "a = np.array([1, 3, 5, 9])"
      ],
      "execution_count": 2,
      "outputs": []
    },
    {
      "cell_type": "code",
      "metadata": {
        "id": "bmek5xvIdj_w",
        "outputId": "3204dd20-da4c-4415-9c8c-b1f7911765bf",
        "colab": {
          "base_uri": "https://localhost:8080/"
        }
      },
      "source": [
        "a[1]"
      ],
      "execution_count": 3,
      "outputs": [
        {
          "output_type": "execute_result",
          "data": {
            "text/plain": [
              "3"
            ]
          },
          "metadata": {
            "tags": []
          },
          "execution_count": 3
        }
      ]
    },
    {
      "cell_type": "code",
      "metadata": {
        "id": "mFy7fR_sdmg7",
        "outputId": "fa158c29-aaa4-411f-c7a1-fc790662081c",
        "colab": {
          "base_uri": "https://localhost:8080/"
        }
      },
      "source": [
        "a[0]"
      ],
      "execution_count": 4,
      "outputs": [
        {
          "output_type": "execute_result",
          "data": {
            "text/plain": [
              "1"
            ]
          },
          "metadata": {
            "tags": []
          },
          "execution_count": 4
        }
      ]
    },
    {
      "cell_type": "code",
      "metadata": {
        "id": "nsgu1R0qdnug",
        "outputId": "0732355b-24ec-4505-d673-9bc1053dfabe",
        "colab": {
          "base_uri": "https://localhost:8080/"
        }
      },
      "source": [
        "a[-1]"
      ],
      "execution_count": 5,
      "outputs": [
        {
          "output_type": "execute_result",
          "data": {
            "text/plain": [
              "9"
            ]
          },
          "metadata": {
            "tags": []
          },
          "execution_count": 5
        }
      ]
    },
    {
      "cell_type": "code",
      "metadata": {
        "id": "HzlVmB0LdpH_",
        "outputId": "24b78a1f-e398-4ae0-fc9c-9430f9570cbd",
        "colab": {
          "base_uri": "https://localhost:8080/"
        }
      },
      "source": [
        "a[1:3]"
      ],
      "execution_count": 6,
      "outputs": [
        {
          "output_type": "execute_result",
          "data": {
            "text/plain": [
              "array([3, 5])"
            ]
          },
          "metadata": {
            "tags": []
          },
          "execution_count": 6
        }
      ]
    },
    {
      "cell_type": "code",
      "metadata": {
        "id": "a9owGY77d6Nu"
      },
      "source": [
        "a[1:3] = 0"
      ],
      "execution_count": 7,
      "outputs": []
    },
    {
      "cell_type": "code",
      "metadata": {
        "id": "ygLSpFeXeHM0",
        "outputId": "25cb9f12-a8d8-4c38-c3c2-9d4e7e66c34f",
        "colab": {
          "base_uri": "https://localhost:8080/"
        }
      },
      "source": [
        "a"
      ],
      "execution_count": 8,
      "outputs": [
        {
          "output_type": "execute_result",
          "data": {
            "text/plain": [
              "array([1, 0, 0, 9])"
            ]
          },
          "metadata": {
            "tags": []
          },
          "execution_count": 8
        }
      ]
    },
    {
      "cell_type": "code",
      "metadata": {
        "id": "n1zVfDn2eK1C"
      },
      "source": [
        "b = np.random.random((10, 10))"
      ],
      "execution_count": 9,
      "outputs": []
    },
    {
      "cell_type": "code",
      "metadata": {
        "id": "zaALl84QeSe7",
        "outputId": "47588b24-f419-4d31-fca5-450823f5c35e",
        "colab": {
          "base_uri": "https://localhost:8080/"
        }
      },
      "source": [
        "b"
      ],
      "execution_count": 10,
      "outputs": [
        {
          "output_type": "execute_result",
          "data": {
            "text/plain": [
              "array([[0.56149628, 0.1222493 , 0.17530011, 0.5520375 , 0.42223773,\n",
              "        0.27834278, 0.32323778, 0.55811982, 0.94199479, 0.34907042],\n",
              "       [0.93485952, 0.49481158, 0.41723753, 0.81595621, 0.12220314,\n",
              "        0.36863285, 0.49873562, 0.93969086, 0.28033311, 0.10102041],\n",
              "       [0.89415267, 0.58113127, 0.0559671 , 0.45396041, 0.55114571,\n",
              "        0.59658329, 0.29971566, 0.47732789, 0.29699222, 0.54982347],\n",
              "       [0.24169365, 0.92984926, 0.03197239, 0.07833697, 0.4773476 ,\n",
              "        0.56640458, 0.71697059, 0.9385139 , 0.23203558, 0.50913242],\n",
              "       [0.26003028, 0.97605416, 0.70695695, 0.96537848, 0.34701673,\n",
              "        0.14237201, 0.41461828, 0.79653939, 0.14083279, 0.47039522],\n",
              "       [0.5881924 , 0.59189469, 0.96587131, 0.34157352, 0.24772691,\n",
              "        0.0435599 , 0.11259125, 0.28661188, 0.42740874, 0.74592507],\n",
              "       [0.73709815, 0.9679741 , 0.48456143, 0.1631083 , 0.99209319,\n",
              "        0.2021932 , 0.62438903, 0.14418369, 0.24361799, 0.27444027],\n",
              "       [0.8264451 , 0.24208935, 0.38266537, 0.64285257, 0.86626681,\n",
              "        0.75762823, 0.64925874, 0.9326945 , 0.58836835, 0.21527101],\n",
              "       [0.54088519, 0.18401732, 0.46405771, 0.60974988, 0.12421417,\n",
              "        0.35109171, 0.9077189 , 0.29051102, 0.63943571, 0.32177499],\n",
              "       [0.34919993, 0.14519244, 0.74623296, 0.0402355 , 0.60331966,\n",
              "        0.99559297, 0.05943476, 0.97006741, 0.81391471, 0.78707305]])"
            ]
          },
          "metadata": {
            "tags": []
          },
          "execution_count": 10
        }
      ]
    },
    {
      "cell_type": "code",
      "metadata": {
        "id": "guforkAHeTBR",
        "outputId": "bf99ea6c-53eb-4b53-a103-96c8aa08d37f",
        "colab": {
          "base_uri": "https://localhost:8080/"
        }
      },
      "source": [
        "b[2, 3]"
      ],
      "execution_count": 11,
      "outputs": [
        {
          "output_type": "execute_result",
          "data": {
            "text/plain": [
              "0.4539604124989741"
            ]
          },
          "metadata": {
            "tags": []
          },
          "execution_count": 11
        }
      ]
    },
    {
      "cell_type": "code",
      "metadata": {
        "id": "ehVgu0kBeYN8",
        "outputId": "ba73dfcc-bcf2-4ac4-e08d-089a2bbc9a2a",
        "colab": {
          "base_uri": "https://localhost:8080/"
        }
      },
      "source": [
        "b[1, 2:5]"
      ],
      "execution_count": 12,
      "outputs": [
        {
          "output_type": "execute_result",
          "data": {
            "text/plain": [
              "array([0.41723753, 0.81595621, 0.12220314])"
            ]
          },
          "metadata": {
            "tags": []
          },
          "execution_count": 12
        }
      ]
    },
    {
      "cell_type": "code",
      "metadata": {
        "id": "IW1MPEoHebVn",
        "outputId": "61592875-aeec-4a1b-b59a-23212a812e66",
        "colab": {
          "base_uri": "https://localhost:8080/"
        }
      },
      "source": [
        "b[2:5, 3:6]"
      ],
      "execution_count": 13,
      "outputs": [
        {
          "output_type": "execute_result",
          "data": {
            "text/plain": [
              "array([[0.45396041, 0.55114571, 0.59658329],\n",
              "       [0.07833697, 0.4773476 , 0.56640458],\n",
              "       [0.96537848, 0.34701673, 0.14237201]])"
            ]
          },
          "metadata": {
            "tags": []
          },
          "execution_count": 13
        }
      ]
    },
    {
      "cell_type": "code",
      "metadata": {
        "id": "uSXc9h0BejU3",
        "outputId": "11e071b3-7bc6-42d9-c4ba-de45c919f1e7",
        "colab": {
          "base_uri": "https://localhost:8080/"
        }
      },
      "source": [
        "b[0:10, 3:6]"
      ],
      "execution_count": 14,
      "outputs": [
        {
          "output_type": "execute_result",
          "data": {
            "text/plain": [
              "array([[0.5520375 , 0.42223773, 0.27834278],\n",
              "       [0.81595621, 0.12220314, 0.36863285],\n",
              "       [0.45396041, 0.55114571, 0.59658329],\n",
              "       [0.07833697, 0.4773476 , 0.56640458],\n",
              "       [0.96537848, 0.34701673, 0.14237201],\n",
              "       [0.34157352, 0.24772691, 0.0435599 ],\n",
              "       [0.1631083 , 0.99209319, 0.2021932 ],\n",
              "       [0.64285257, 0.86626681, 0.75762823],\n",
              "       [0.60974988, 0.12421417, 0.35109171],\n",
              "       [0.0402355 , 0.60331966, 0.99559297]])"
            ]
          },
          "metadata": {
            "tags": []
          },
          "execution_count": 14
        }
      ]
    },
    {
      "cell_type": "code",
      "metadata": {
        "id": "Qatc-yY7es-q",
        "outputId": "40e72a99-3b30-4c68-ba92-07d5c1bb6acd",
        "colab": {
          "base_uri": "https://localhost:8080/"
        }
      },
      "source": [
        "b[:, 3:6]"
      ],
      "execution_count": 15,
      "outputs": [
        {
          "output_type": "execute_result",
          "data": {
            "text/plain": [
              "array([[0.5520375 , 0.42223773, 0.27834278],\n",
              "       [0.81595621, 0.12220314, 0.36863285],\n",
              "       [0.45396041, 0.55114571, 0.59658329],\n",
              "       [0.07833697, 0.4773476 , 0.56640458],\n",
              "       [0.96537848, 0.34701673, 0.14237201],\n",
              "       [0.34157352, 0.24772691, 0.0435599 ],\n",
              "       [0.1631083 , 0.99209319, 0.2021932 ],\n",
              "       [0.64285257, 0.86626681, 0.75762823],\n",
              "       [0.60974988, 0.12421417, 0.35109171],\n",
              "       [0.0402355 , 0.60331966, 0.99559297]])"
            ]
          },
          "metadata": {
            "tags": []
          },
          "execution_count": 15
        }
      ]
    },
    {
      "cell_type": "code",
      "metadata": {
        "id": "5aEx05_xey7A",
        "outputId": "c999ae35-6136-482e-9b05-97358cb532f0",
        "colab": {
          "base_uri": "https://localhost:8080/"
        }
      },
      "source": [
        "b[0:10, 3:6]\n",
        "# b[0:, 3:6]\n",
        "# b[:10, 3:6]\n",
        "# b[:, 3:6]"
      ],
      "execution_count": 16,
      "outputs": [
        {
          "output_type": "execute_result",
          "data": {
            "text/plain": [
              "array([[0.5520375 , 0.42223773, 0.27834278],\n",
              "       [0.81595621, 0.12220314, 0.36863285],\n",
              "       [0.45396041, 0.55114571, 0.59658329],\n",
              "       [0.07833697, 0.4773476 , 0.56640458],\n",
              "       [0.96537848, 0.34701673, 0.14237201],\n",
              "       [0.34157352, 0.24772691, 0.0435599 ],\n",
              "       [0.1631083 , 0.99209319, 0.2021932 ],\n",
              "       [0.64285257, 0.86626681, 0.75762823],\n",
              "       [0.60974988, 0.12421417, 0.35109171],\n",
              "       [0.0402355 , 0.60331966, 0.99559297]])"
            ]
          },
          "metadata": {
            "tags": []
          },
          "execution_count": 16
        }
      ]
    },
    {
      "cell_type": "code",
      "metadata": {
        "id": "k8Lhmbl9fEVQ",
        "outputId": "db8457fd-dd7b-4d26-983f-de6ab436a93c",
        "colab": {
          "base_uri": "https://localhost:8080/"
        }
      },
      "source": [
        "b[:, :]"
      ],
      "execution_count": 17,
      "outputs": [
        {
          "output_type": "execute_result",
          "data": {
            "text/plain": [
              "array([[0.56149628, 0.1222493 , 0.17530011, 0.5520375 , 0.42223773,\n",
              "        0.27834278, 0.32323778, 0.55811982, 0.94199479, 0.34907042],\n",
              "       [0.93485952, 0.49481158, 0.41723753, 0.81595621, 0.12220314,\n",
              "        0.36863285, 0.49873562, 0.93969086, 0.28033311, 0.10102041],\n",
              "       [0.89415267, 0.58113127, 0.0559671 , 0.45396041, 0.55114571,\n",
              "        0.59658329, 0.29971566, 0.47732789, 0.29699222, 0.54982347],\n",
              "       [0.24169365, 0.92984926, 0.03197239, 0.07833697, 0.4773476 ,\n",
              "        0.56640458, 0.71697059, 0.9385139 , 0.23203558, 0.50913242],\n",
              "       [0.26003028, 0.97605416, 0.70695695, 0.96537848, 0.34701673,\n",
              "        0.14237201, 0.41461828, 0.79653939, 0.14083279, 0.47039522],\n",
              "       [0.5881924 , 0.59189469, 0.96587131, 0.34157352, 0.24772691,\n",
              "        0.0435599 , 0.11259125, 0.28661188, 0.42740874, 0.74592507],\n",
              "       [0.73709815, 0.9679741 , 0.48456143, 0.1631083 , 0.99209319,\n",
              "        0.2021932 , 0.62438903, 0.14418369, 0.24361799, 0.27444027],\n",
              "       [0.8264451 , 0.24208935, 0.38266537, 0.64285257, 0.86626681,\n",
              "        0.75762823, 0.64925874, 0.9326945 , 0.58836835, 0.21527101],\n",
              "       [0.54088519, 0.18401732, 0.46405771, 0.60974988, 0.12421417,\n",
              "        0.35109171, 0.9077189 , 0.29051102, 0.63943571, 0.32177499],\n",
              "       [0.34919993, 0.14519244, 0.74623296, 0.0402355 , 0.60331966,\n",
              "        0.99559297, 0.05943476, 0.97006741, 0.81391471, 0.78707305]])"
            ]
          },
          "metadata": {
            "tags": []
          },
          "execution_count": 17
        }
      ]
    },
    {
      "cell_type": "code",
      "metadata": {
        "id": "NmY7IsPGfNhN",
        "outputId": "69fafa1f-ce55-435b-9838-43f0821dd74e",
        "colab": {
          "base_uri": "https://localhost:8080/"
        }
      },
      "source": [
        "b[0:10:2, 3:6]"
      ],
      "execution_count": 18,
      "outputs": [
        {
          "output_type": "execute_result",
          "data": {
            "text/plain": [
              "array([[0.5520375 , 0.42223773, 0.27834278],\n",
              "       [0.45396041, 0.55114571, 0.59658329],\n",
              "       [0.96537848, 0.34701673, 0.14237201],\n",
              "       [0.1631083 , 0.99209319, 0.2021932 ],\n",
              "       [0.60974988, 0.12421417, 0.35109171]])"
            ]
          },
          "metadata": {
            "tags": []
          },
          "execution_count": 18
        }
      ]
    },
    {
      "cell_type": "code",
      "metadata": {
        "id": "DyDhBnzmfR4u",
        "outputId": "94798380-87ca-4e8c-aa62-e29f8e41b380",
        "colab": {
          "base_uri": "https://localhost:8080/"
        }
      },
      "source": [
        "b[::2, 3:6]"
      ],
      "execution_count": 19,
      "outputs": [
        {
          "output_type": "execute_result",
          "data": {
            "text/plain": [
              "array([[0.5520375 , 0.42223773, 0.27834278],\n",
              "       [0.45396041, 0.55114571, 0.59658329],\n",
              "       [0.96537848, 0.34701673, 0.14237201],\n",
              "       [0.1631083 , 0.99209319, 0.2021932 ],\n",
              "       [0.60974988, 0.12421417, 0.35109171]])"
            ]
          },
          "metadata": {
            "tags": []
          },
          "execution_count": 19
        }
      ]
    },
    {
      "cell_type": "code",
      "metadata": {
        "id": "qYaFl5m7fW8q"
      },
      "source": [
        "b[::2, 3:6] = 0"
      ],
      "execution_count": 20,
      "outputs": []
    },
    {
      "cell_type": "code",
      "metadata": {
        "id": "mvSGKcAGfZao"
      },
      "source": [
        "c = np.random.random((5, 5))"
      ],
      "execution_count": 22,
      "outputs": []
    },
    {
      "cell_type": "code",
      "metadata": {
        "id": "3PvChlFxfbLV",
        "outputId": "d900c904-8377-400c-d3db-a1907a974ebe",
        "colab": {
          "base_uri": "https://localhost:8080/"
        }
      },
      "source": [
        "c"
      ],
      "execution_count": 23,
      "outputs": [
        {
          "output_type": "execute_result",
          "data": {
            "text/plain": [
              "array([[0.0040629 , 0.54886861, 0.25084767, 0.51795837, 0.47666005],\n",
              "       [0.93722264, 0.41856276, 0.95537078, 0.243682  , 0.72458567],\n",
              "       [0.24266886, 0.96839939, 0.11995539, 0.11559073, 0.93160904],\n",
              "       [0.63461549, 0.29637822, 0.65689225, 0.30295755, 0.91086917],\n",
              "       [0.85172787, 0.71053649, 0.07007383, 0.48713397, 0.95964691]])"
            ]
          },
          "metadata": {
            "tags": []
          },
          "execution_count": 23
        }
      ]
    },
    {
      "cell_type": "code",
      "metadata": {
        "id": "_PyCjMvVfhBD"
      },
      "source": [
        "c[::2, 1:3] = 0"
      ],
      "execution_count": 24,
      "outputs": []
    },
    {
      "cell_type": "code",
      "metadata": {
        "id": "8TYZyrWmfkRk",
        "outputId": "25f9ab91-6104-4a78-a5ca-5e55fd00f1c5",
        "colab": {
          "base_uri": "https://localhost:8080/"
        }
      },
      "source": [
        "c"
      ],
      "execution_count": 25,
      "outputs": [
        {
          "output_type": "execute_result",
          "data": {
            "text/plain": [
              "array([[0.0040629 , 0.        , 0.        , 0.51795837, 0.47666005],\n",
              "       [0.93722264, 0.41856276, 0.95537078, 0.243682  , 0.72458567],\n",
              "       [0.24266886, 0.        , 0.        , 0.11559073, 0.93160904],\n",
              "       [0.63461549, 0.29637822, 0.65689225, 0.30295755, 0.91086917],\n",
              "       [0.85172787, 0.        , 0.        , 0.48713397, 0.95964691]])"
            ]
          },
          "metadata": {
            "tags": []
          },
          "execution_count": 25
        }
      ]
    },
    {
      "cell_type": "code",
      "metadata": {
        "id": "nxDRJl_lfkuJ",
        "outputId": "25db688e-65cf-4fd2-d3ed-d63f4df9d85e",
        "colab": {
          "base_uri": "https://localhost:8080/"
        }
      },
      "source": [
        "c[:, :] = -1\n",
        "c"
      ],
      "execution_count": 26,
      "outputs": [
        {
          "output_type": "execute_result",
          "data": {
            "text/plain": [
              "array([[-1., -1., -1., -1., -1.],\n",
              "       [-1., -1., -1., -1., -1.],\n",
              "       [-1., -1., -1., -1., -1.],\n",
              "       [-1., -1., -1., -1., -1.],\n",
              "       [-1., -1., -1., -1., -1.]])"
            ]
          },
          "metadata": {
            "tags": []
          },
          "execution_count": 26
        }
      ]
    },
    {
      "cell_type": "code",
      "metadata": {
        "id": "_6mchaTXfwOc"
      },
      "source": [
        "c = -1"
      ],
      "execution_count": 27,
      "outputs": []
    },
    {
      "cell_type": "code",
      "metadata": {
        "id": "mJHx8XvgfzFx",
        "outputId": "3a9a8ddd-83c0-4598-9f65-ea67529154f9",
        "colab": {
          "base_uri": "https://localhost:8080/"
        }
      },
      "source": [
        "c"
      ],
      "execution_count": 28,
      "outputs": [
        {
          "output_type": "execute_result",
          "data": {
            "text/plain": [
              "-1"
            ]
          },
          "metadata": {
            "tags": []
          },
          "execution_count": 28
        }
      ]
    },
    {
      "cell_type": "code",
      "metadata": {
        "id": "povJBF6Ofzfy",
        "outputId": "bdd0aa10-32d8-441a-a76a-5149cffc4af8",
        "colab": {
          "base_uri": "https://localhost:8080/"
        }
      },
      "source": [
        "v1 = np.arange(10)\n",
        "v1"
      ],
      "execution_count": 29,
      "outputs": [
        {
          "output_type": "execute_result",
          "data": {
            "text/plain": [
              "array([0, 1, 2, 3, 4, 5, 6, 7, 8, 9])"
            ]
          },
          "metadata": {
            "tags": []
          },
          "execution_count": 29
        }
      ]
    },
    {
      "cell_type": "code",
      "metadata": {
        "id": "R6fcB7NngHG0",
        "outputId": "707fbf6b-032e-45f1-cabe-e037259489e4",
        "colab": {
          "base_uri": "https://localhost:8080/"
        }
      },
      "source": [
        "v2 = np.array([1, 4, 5, 2, 5, 9, 9, 3, 2, 1])\n",
        "v2"
      ],
      "execution_count": 30,
      "outputs": [
        {
          "output_type": "execute_result",
          "data": {
            "text/plain": [
              "array([1, 4, 5, 2, 5, 9, 9, 3, 2, 1])"
            ]
          },
          "metadata": {
            "tags": []
          },
          "execution_count": 30
        }
      ]
    },
    {
      "cell_type": "code",
      "metadata": {
        "id": "7p-e3rINgN0L"
      },
      "source": [
        "v3 = np.empty((10,), dtype=np.int32)\n",
        "for i in range(10):\n",
        "  v3[i] = v1[i] + v2[i]"
      ],
      "execution_count": 31,
      "outputs": []
    },
    {
      "cell_type": "code",
      "metadata": {
        "id": "duiDjuMSgard",
        "outputId": "0e0c636e-62cd-43cf-9ec2-d7f4a4b70596",
        "colab": {
          "base_uri": "https://localhost:8080/"
        }
      },
      "source": [
        "v3"
      ],
      "execution_count": 32,
      "outputs": [
        {
          "output_type": "execute_result",
          "data": {
            "text/plain": [
              "array([ 1,  5,  7,  5,  9, 14, 15, 10, 10, 10], dtype=int32)"
            ]
          },
          "metadata": {
            "tags": []
          },
          "execution_count": 32
        }
      ]
    },
    {
      "cell_type": "code",
      "metadata": {
        "id": "izbUFcxTgbeU"
      },
      "source": [
        "v4 = v1 + v2"
      ],
      "execution_count": 33,
      "outputs": []
    },
    {
      "cell_type": "code",
      "metadata": {
        "id": "RrVl3W_sghwv",
        "outputId": "66492267-476e-4173-c128-648ef574f026",
        "colab": {
          "base_uri": "https://localhost:8080/"
        }
      },
      "source": [
        "v4"
      ],
      "execution_count": 34,
      "outputs": [
        {
          "output_type": "execute_result",
          "data": {
            "text/plain": [
              "array([ 1,  5,  7,  5,  9, 14, 15, 10, 10, 10])"
            ]
          },
          "metadata": {
            "tags": []
          },
          "execution_count": 34
        }
      ]
    },
    {
      "cell_type": "code",
      "metadata": {
        "id": "wO_39pxDgicN",
        "outputId": "319f0c73-29a5-4218-b8cc-6fdfd5418fc9",
        "colab": {
          "base_uri": "https://localhost:8080/"
        }
      },
      "source": [
        "np.cos(v4)"
      ],
      "execution_count": 35,
      "outputs": [
        {
          "output_type": "execute_result",
          "data": {
            "text/plain": [
              "array([ 0.54030231,  0.28366219,  0.75390225,  0.28366219, -0.91113026,\n",
              "        0.13673722, -0.75968791, -0.83907153, -0.83907153, -0.83907153])"
            ]
          },
          "metadata": {
            "tags": []
          },
          "execution_count": 35
        }
      ]
    },
    {
      "cell_type": "code",
      "metadata": {
        "id": "1aDDupQPg-c2",
        "outputId": "a8a0161f-f4a7-4a1d-f511-95029b8fdda4",
        "colab": {
          "base_uri": "https://localhost:8080/"
        }
      },
      "source": [
        "v4 * v1"
      ],
      "execution_count": 36,
      "outputs": [
        {
          "output_type": "execute_result",
          "data": {
            "text/plain": [
              "array([ 0,  5, 14, 15, 36, 70, 90, 70, 80, 90])"
            ]
          },
          "metadata": {
            "tags": []
          },
          "execution_count": 36
        }
      ]
    },
    {
      "cell_type": "code",
      "metadata": {
        "id": "mwcS9mFqhCio"
      },
      "source": [
        "import math"
      ],
      "execution_count": 37,
      "outputs": []
    },
    {
      "cell_type": "code",
      "metadata": {
        "id": "odgADxH3hHHZ",
        "outputId": "6ba66e0c-4032-4ffd-a3f9-7b4a94ffb976",
        "colab": {
          "base_uri": "https://localhost:8080/"
        }
      },
      "source": [
        "math.cos(math.pi)"
      ],
      "execution_count": 38,
      "outputs": [
        {
          "output_type": "execute_result",
          "data": {
            "text/plain": [
              "-1.0"
            ]
          },
          "metadata": {
            "tags": []
          },
          "execution_count": 38
        }
      ]
    },
    {
      "cell_type": "code",
      "metadata": {
        "id": "xPcieG1rhJg_",
        "outputId": "861147ff-7984-4673-b314-9a321840cd73",
        "colab": {
          "base_uri": "https://localhost:8080/"
        }
      },
      "source": [
        "np.cos(math.pi)"
      ],
      "execution_count": 39,
      "outputs": [
        {
          "output_type": "execute_result",
          "data": {
            "text/plain": [
              "-1.0"
            ]
          },
          "metadata": {
            "tags": []
          },
          "execution_count": 39
        }
      ]
    },
    {
      "cell_type": "code",
      "metadata": {
        "id": "Oj-I2pzVhL4M",
        "outputId": "06b568ee-f45e-4011-a730-abfc6e439919",
        "colab": {
          "base_uri": "https://localhost:8080/",
          "height": 173
        }
      },
      "source": [
        "math.cos(v4)"
      ],
      "execution_count": 40,
      "outputs": [
        {
          "output_type": "error",
          "ename": "TypeError",
          "evalue": "ignored",
          "traceback": [
            "\u001b[0;31m---------------------------------------------------------------------------\u001b[0m",
            "\u001b[0;31mTypeError\u001b[0m                                 Traceback (most recent call last)",
            "\u001b[0;32m<ipython-input-40-a0fe9e70914e>\u001b[0m in \u001b[0;36m<module>\u001b[0;34m()\u001b[0m\n\u001b[0;32m----> 1\u001b[0;31m \u001b[0mmath\u001b[0m\u001b[0;34m.\u001b[0m\u001b[0mcos\u001b[0m\u001b[0;34m(\u001b[0m\u001b[0mv4\u001b[0m\u001b[0;34m)\u001b[0m\u001b[0;34m\u001b[0m\u001b[0;34m\u001b[0m\u001b[0m\n\u001b[0m",
            "\u001b[0;31mTypeError\u001b[0m: only size-1 arrays can be converted to Python scalars"
          ]
        }
      ]
    },
    {
      "cell_type": "code",
      "metadata": {
        "id": "xSM806_IhVJo"
      },
      "source": [
        "def f(x, y):\n",
        "  return np.sin(x) * np.cos(y)"
      ],
      "execution_count": 41,
      "outputs": []
    },
    {
      "cell_type": "code",
      "metadata": {
        "id": "PVBypGflhhfp",
        "outputId": "d477f3c2-b3ce-4204-df6a-297a69af4e80",
        "colab": {
          "base_uri": "https://localhost:8080/"
        }
      },
      "source": [
        "f(3, 5)"
      ],
      "execution_count": 42,
      "outputs": [
        {
          "output_type": "execute_result",
          "data": {
            "text/plain": [
              "0.04003040989885004"
            ]
          },
          "metadata": {
            "tags": []
          },
          "execution_count": 42
        }
      ]
    },
    {
      "cell_type": "code",
      "metadata": {
        "id": "eVidbMGship3",
        "outputId": "61399fe8-87cd-4f60-9746-f8fb0c10a145",
        "colab": {
          "base_uri": "https://localhost:8080/"
        }
      },
      "source": [
        "f(v1, v2)"
      ],
      "execution_count": 43,
      "outputs": [
        {
          "output_type": "execute_result",
          "data": {
            "text/plain": [
              "array([ 0.        , -0.55002214,  0.2579333 , -0.05872664, -0.21467625,\n",
              "        0.87370493,  0.25458392, -0.6504118 , -0.4117183 ,  0.22266857])"
            ]
          },
          "metadata": {
            "tags": []
          },
          "execution_count": 43
        }
      ]
    },
    {
      "cell_type": "code",
      "metadata": {
        "id": "8qZg-0NGhk7e"
      },
      "source": [
        "def f(x, y):\n",
        "  return np.meshgrid(x, y)"
      ],
      "execution_count": 44,
      "outputs": []
    },
    {
      "cell_type": "code",
      "metadata": {
        "id": "Lfd-WDM-iAMQ",
        "outputId": "61be7b75-01b8-4544-bf4e-97d1c35f5344",
        "colab": {
          "base_uri": "https://localhost:8080/"
        }
      },
      "source": [
        "f(v1, v2)"
      ],
      "execution_count": 45,
      "outputs": [
        {
          "output_type": "execute_result",
          "data": {
            "text/plain": [
              "[array([[0, 1, 2, 3, 4, 5, 6, 7, 8, 9],\n",
              "        [0, 1, 2, 3, 4, 5, 6, 7, 8, 9],\n",
              "        [0, 1, 2, 3, 4, 5, 6, 7, 8, 9],\n",
              "        [0, 1, 2, 3, 4, 5, 6, 7, 8, 9],\n",
              "        [0, 1, 2, 3, 4, 5, 6, 7, 8, 9],\n",
              "        [0, 1, 2, 3, 4, 5, 6, 7, 8, 9],\n",
              "        [0, 1, 2, 3, 4, 5, 6, 7, 8, 9],\n",
              "        [0, 1, 2, 3, 4, 5, 6, 7, 8, 9],\n",
              "        [0, 1, 2, 3, 4, 5, 6, 7, 8, 9],\n",
              "        [0, 1, 2, 3, 4, 5, 6, 7, 8, 9]]),\n",
              " array([[1, 1, 1, 1, 1, 1, 1, 1, 1, 1],\n",
              "        [4, 4, 4, 4, 4, 4, 4, 4, 4, 4],\n",
              "        [5, 5, 5, 5, 5, 5, 5, 5, 5, 5],\n",
              "        [2, 2, 2, 2, 2, 2, 2, 2, 2, 2],\n",
              "        [5, 5, 5, 5, 5, 5, 5, 5, 5, 5],\n",
              "        [9, 9, 9, 9, 9, 9, 9, 9, 9, 9],\n",
              "        [9, 9, 9, 9, 9, 9, 9, 9, 9, 9],\n",
              "        [3, 3, 3, 3, 3, 3, 3, 3, 3, 3],\n",
              "        [2, 2, 2, 2, 2, 2, 2, 2, 2, 2],\n",
              "        [1, 1, 1, 1, 1, 1, 1, 1, 1, 1]])]"
            ]
          },
          "metadata": {
            "tags": []
          },
          "execution_count": 45
        }
      ]
    },
    {
      "cell_type": "code",
      "metadata": {
        "id": "zf-bPEMeiCKh",
        "outputId": "31b5a0a0-e936-40b3-869e-5eb369be0f28",
        "colab": {
          "base_uri": "https://localhost:8080/"
        }
      },
      "source": [
        "a = np.array([1, 2, 3])\n",
        "b = np.array([10, 20, 30])\n",
        "\n",
        "f(a, b)"
      ],
      "execution_count": 46,
      "outputs": [
        {
          "output_type": "execute_result",
          "data": {
            "text/plain": [
              "[array([[1, 2, 3],\n",
              "        [1, 2, 3],\n",
              "        [1, 2, 3]]), array([[10, 10, 10],\n",
              "        [20, 20, 20],\n",
              "        [30, 30, 30]])]"
            ]
          },
          "metadata": {
            "tags": []
          },
          "execution_count": 46
        }
      ]
    },
    {
      "cell_type": "code",
      "metadata": {
        "id": "K1LJ-a_oiLHg"
      },
      "source": [
        "def f(a, b):\n",
        "  output = np.empty((a.shape[0], 2), dtype=a.dtype)\n",
        "  output[:, 0] = a\n",
        "  output[:, 1] = b\n",
        "  return output"
      ],
      "execution_count": 49,
      "outputs": []
    },
    {
      "cell_type": "code",
      "metadata": {
        "id": "AtC3kqR0isAQ",
        "outputId": "ee1f14e4-50d7-4009-d7e0-410e7dccf301",
        "colab": {
          "base_uri": "https://localhost:8080/"
        }
      },
      "source": [
        "f(a, b).T"
      ],
      "execution_count": 51,
      "outputs": [
        {
          "output_type": "execute_result",
          "data": {
            "text/plain": [
              "array([[ 1,  2,  3],\n",
              "       [10, 20, 30]])"
            ]
          },
          "metadata": {
            "tags": []
          },
          "execution_count": 51
        }
      ]
    },
    {
      "cell_type": "code",
      "metadata": {
        "id": "im06Xy8fite0",
        "outputId": "5c8c7535-b8e1-4dbe-e5ff-b293a9e00a67",
        "colab": {
          "base_uri": "https://localhost:8080/"
        }
      },
      "source": [
        "np.array([a, b])"
      ],
      "execution_count": 52,
      "outputs": [
        {
          "output_type": "execute_result",
          "data": {
            "text/plain": [
              "array([[ 1,  2,  3],\n",
              "       [10, 20, 30]])"
            ]
          },
          "metadata": {
            "tags": []
          },
          "execution_count": 52
        }
      ]
    },
    {
      "cell_type": "code",
      "metadata": {
        "id": "-YlTdy5Oi37C",
        "outputId": "6ca4ec37-fbf2-4554-9dfd-4e6c1ba9d6f0",
        "colab": {
          "base_uri": "https://localhost:8080/"
        }
      },
      "source": [
        "f(a,b)"
      ],
      "execution_count": 53,
      "outputs": [
        {
          "output_type": "execute_result",
          "data": {
            "text/plain": [
              "array([[ 1, 10],\n",
              "       [ 2, 20],\n",
              "       [ 3, 30]])"
            ]
          },
          "metadata": {
            "tags": []
          },
          "execution_count": 53
        }
      ]
    },
    {
      "cell_type": "code",
      "metadata": {
        "id": "h5xaThEHjDT1",
        "outputId": "315183cd-1f59-43c4-c925-fd8ac33d9c47",
        "colab": {
          "base_uri": "https://localhost:8080/"
        }
      },
      "source": [
        "v = np.random.random((2, 10))\n",
        "v"
      ],
      "execution_count": 54,
      "outputs": [
        {
          "output_type": "execute_result",
          "data": {
            "text/plain": [
              "array([[0.7738921 , 0.51051145, 0.82759049, 0.23016893, 0.80270942,\n",
              "        0.19077538, 0.36877939, 0.24669379, 0.070997  , 0.26894694],\n",
              "       [0.04728811, 0.53873042, 0.43197686, 0.32523679, 0.0751666 ,\n",
              "        0.823282  , 0.16007065, 0.21239761, 0.11263134, 0.07675317]])"
            ]
          },
          "metadata": {
            "tags": []
          },
          "execution_count": 54
        }
      ]
    },
    {
      "cell_type": "code",
      "metadata": {
        "id": "glhs0LsKjU_U",
        "outputId": "bfaf69c0-56c4-4b29-adcd-1bd3f70da212",
        "colab": {
          "base_uri": "https://localhost:8080/"
        }
      },
      "source": [
        "v[:, 3]"
      ],
      "execution_count": 55,
      "outputs": [
        {
          "output_type": "execute_result",
          "data": {
            "text/plain": [
              "array([0.23016893, 0.32523679])"
            ]
          },
          "metadata": {
            "tags": []
          },
          "execution_count": 55
        }
      ]
    },
    {
      "cell_type": "code",
      "metadata": {
        "id": "9givYGaBjY0h",
        "outputId": "2d275dff-ccef-441b-cb1a-a64f6328c5a7",
        "colab": {
          "base_uri": "https://localhost:8080/"
        }
      },
      "source": [
        "v[:, 5]"
      ],
      "execution_count": 57,
      "outputs": [
        {
          "output_type": "execute_result",
          "data": {
            "text/plain": [
              "array([0.19077538, 0.823282  ])"
            ]
          },
          "metadata": {
            "tags": []
          },
          "execution_count": 57
        }
      ]
    },
    {
      "cell_type": "code",
      "metadata": {
        "id": "OztjeVoajalA"
      },
      "source": [
        "speed = np.sqrt(v[0] ** 2 + v[1] ** 2)"
      ],
      "execution_count": 58,
      "outputs": []
    },
    {
      "cell_type": "code",
      "metadata": {
        "id": "aa_ysr7tjpMi",
        "outputId": "1df5cba3-2200-431c-fe23-138f67f09ab3",
        "colab": {
          "base_uri": "https://localhost:8080/"
        }
      },
      "source": [
        "speed"
      ],
      "execution_count": 59,
      "outputs": [
        {
          "output_type": "execute_result",
          "data": {
            "text/plain": [
              "array([0.7753355 , 0.74219432, 0.93354701, 0.39844285, 0.80622108,\n",
              "       0.84509674, 0.40202096, 0.32553121, 0.1331405 , 0.27968465])"
            ]
          },
          "metadata": {
            "tags": []
          },
          "execution_count": 59
        }
      ]
    },
    {
      "cell_type": "code",
      "metadata": {
        "id": "z0E1Az3Vjp5e"
      },
      "source": [
        "speed = np.sqrt(v[0, :] ** 2 + v[1, :] ** 2)"
      ],
      "execution_count": 60,
      "outputs": []
    },
    {
      "cell_type": "code",
      "metadata": {
        "id": "LIS5GC6UjwE0"
      },
      "source": [
        "m = np.random.random((10,))"
      ],
      "execution_count": 61,
      "outputs": []
    },
    {
      "cell_type": "code",
      "metadata": {
        "id": "-SlPuu5mkAGS",
        "outputId": "fedb2955-8fe3-4e39-bc51-0cf4c6308aa2",
        "colab": {
          "base_uri": "https://localhost:8080/"
        }
      },
      "source": [
        "m"
      ],
      "execution_count": 62,
      "outputs": [
        {
          "output_type": "execute_result",
          "data": {
            "text/plain": [
              "array([0.41013166, 0.98181272, 0.92220372, 0.7236508 , 0.33008132,\n",
              "       0.41965741, 0.21686114, 0.33446428, 0.6220335 , 0.79097782])"
            ]
          },
          "metadata": {
            "tags": []
          },
          "execution_count": 62
        }
      ]
    },
    {
      "cell_type": "code",
      "metadata": {
        "id": "wK-AA0xLkAaj"
      },
      "source": [
        "p = m * v"
      ],
      "execution_count": 65,
      "outputs": []
    },
    {
      "cell_type": "code",
      "metadata": {
        "id": "h5n0wn4YkEH_",
        "outputId": "27becb9e-4b11-4f13-a81e-723490f7597f",
        "colab": {
          "base_uri": "https://localhost:8080/"
        }
      },
      "source": [
        "p.shape"
      ],
      "execution_count": 66,
      "outputs": [
        {
          "output_type": "execute_result",
          "data": {
            "text/plain": [
              "(2, 10)"
            ]
          },
          "metadata": {
            "tags": []
          },
          "execution_count": 66
        }
      ]
    },
    {
      "cell_type": "code",
      "metadata": {
        "id": "VFEIOT_XkIy1",
        "outputId": "77eb3e0f-a7fe-48ff-e184-3dfcda77f2a7",
        "colab": {
          "base_uri": "https://localhost:8080/"
        }
      },
      "source": [
        "p[:, 2]"
      ],
      "execution_count": 68,
      "outputs": [
        {
          "output_type": "execute_result",
          "data": {
            "text/plain": [
              "array([0.76320703, 0.39837067])"
            ]
          },
          "metadata": {
            "tags": []
          },
          "execution_count": 68
        }
      ]
    },
    {
      "cell_type": "code",
      "metadata": {
        "id": "8zhoG4_HkKkI",
        "outputId": "31b5f10b-4331-4b9c-fe15-c115216a0829",
        "colab": {
          "base_uri": "https://localhost:8080/"
        }
      },
      "source": [
        "v1 + v2"
      ],
      "execution_count": 69,
      "outputs": [
        {
          "output_type": "execute_result",
          "data": {
            "text/plain": [
              "array([ 1,  5,  7,  5,  9, 14, 15, 10, 10, 10])"
            ]
          },
          "metadata": {
            "tags": []
          },
          "execution_count": 69
        }
      ]
    },
    {
      "cell_type": "code",
      "metadata": {
        "id": "Z0FNS8b-kSuT",
        "outputId": "c8272cda-e96e-43ef-bd9d-955e1eca6cea",
        "colab": {
          "base_uri": "https://localhost:8080/"
        }
      },
      "source": [
        "v1.shape"
      ],
      "execution_count": 70,
      "outputs": [
        {
          "output_type": "execute_result",
          "data": {
            "text/plain": [
              "(10,)"
            ]
          },
          "metadata": {
            "tags": []
          },
          "execution_count": 70
        }
      ]
    },
    {
      "cell_type": "code",
      "metadata": {
        "id": "CHX_tX8GkRuz",
        "outputId": "ac97c09b-fa84-4f7d-e7f8-49f312f32acd",
        "colab": {
          "base_uri": "https://localhost:8080/"
        }
      },
      "source": [
        "v2.shape"
      ],
      "execution_count": 71,
      "outputs": [
        {
          "output_type": "execute_result",
          "data": {
            "text/plain": [
              "(10,)"
            ]
          },
          "metadata": {
            "tags": []
          },
          "execution_count": 71
        }
      ]
    },
    {
      "cell_type": "code",
      "metadata": {
        "id": "Gx8h9YT8kU_R"
      },
      "source": [
        "v_error = np.random.random((9,))"
      ],
      "execution_count": 72,
      "outputs": []
    },
    {
      "cell_type": "code",
      "metadata": {
        "id": "bPkvHnQXkYpC",
        "outputId": "21a1c74b-426d-4b97-ff9a-8e80a23ec36a",
        "colab": {
          "base_uri": "https://localhost:8080/"
        }
      },
      "source": [
        "v_error"
      ],
      "execution_count": 73,
      "outputs": [
        {
          "output_type": "execute_result",
          "data": {
            "text/plain": [
              "array([0.05652103, 0.32712974, 0.92307642, 0.99933466, 0.91196638,\n",
              "       0.7929548 , 0.35439834, 0.99612231, 0.31166018])"
            ]
          },
          "metadata": {
            "tags": []
          },
          "execution_count": 73
        }
      ]
    },
    {
      "cell_type": "code",
      "metadata": {
        "id": "_XOhvMtukZWg",
        "outputId": "7ecc93b7-2fcd-419c-e40a-3bc3c6574f3e",
        "colab": {
          "base_uri": "https://localhost:8080/",
          "height": 173
        }
      },
      "source": [
        "v1 + v_error"
      ],
      "execution_count": 74,
      "outputs": [
        {
          "output_type": "error",
          "ename": "ValueError",
          "evalue": "ignored",
          "traceback": [
            "\u001b[0;31m---------------------------------------------------------------------------\u001b[0m",
            "\u001b[0;31mValueError\u001b[0m                                Traceback (most recent call last)",
            "\u001b[0;32m<ipython-input-74-d77331c5a6f2>\u001b[0m in \u001b[0;36m<module>\u001b[0;34m()\u001b[0m\n\u001b[0;32m----> 1\u001b[0;31m \u001b[0mv1\u001b[0m \u001b[0;34m+\u001b[0m \u001b[0mv_error\u001b[0m\u001b[0;34m\u001b[0m\u001b[0;34m\u001b[0m\u001b[0m\n\u001b[0m",
            "\u001b[0;31mValueError\u001b[0m: operands could not be broadcast together with shapes (10,) (9,) "
          ]
        }
      ]
    },
    {
      "cell_type": "code",
      "metadata": {
        "id": "XTOnfa8Ukaia",
        "outputId": "8382ab1f-54a4-42f8-805d-5d9406198016",
        "colab": {
          "base_uri": "https://localhost:8080/"
        }
      },
      "source": [
        "v * m"
      ],
      "execution_count": 75,
      "outputs": [
        {
          "output_type": "execute_result",
          "data": {
            "text/plain": [
              "array([[0.31739765, 0.50122664, 0.76320703, 0.16656193, 0.26495938,\n",
              "        0.0800603 , 0.07997392, 0.08251026, 0.04416251, 0.21273106],\n",
              "       [0.01939435, 0.52893238, 0.39837067, 0.23535786, 0.02481109,\n",
              "        0.34549639, 0.0347131 , 0.07103941, 0.07006047, 0.06071006]])"
            ]
          },
          "metadata": {
            "tags": []
          },
          "execution_count": 75
        }
      ]
    },
    {
      "cell_type": "code",
      "metadata": {
        "id": "eQ1p1qo6kgmg",
        "outputId": "e367af91-574c-4c9e-fb6b-490af91ec7d2",
        "colab": {
          "base_uri": "https://localhost:8080/"
        }
      },
      "source": [
        "m.shape"
      ],
      "execution_count": 76,
      "outputs": [
        {
          "output_type": "execute_result",
          "data": {
            "text/plain": [
              "(10,)"
            ]
          },
          "metadata": {
            "tags": []
          },
          "execution_count": 76
        }
      ]
    },
    {
      "cell_type": "code",
      "metadata": {
        "id": "gZ28tVfKkieX",
        "outputId": "7f013414-3a96-48a5-c183-f75a6e690591",
        "colab": {
          "base_uri": "https://localhost:8080/"
        }
      },
      "source": [
        "v.shape"
      ],
      "execution_count": 77,
      "outputs": [
        {
          "output_type": "execute_result",
          "data": {
            "text/plain": [
              "(2, 10)"
            ]
          },
          "metadata": {
            "tags": []
          },
          "execution_count": 77
        }
      ]
    },
    {
      "cell_type": "code",
      "metadata": {
        "id": "GUuTvR2ykjum",
        "outputId": "08199678-aff4-401c-9835-22e31ac24c57",
        "colab": {
          "base_uri": "https://localhost:8080/"
        }
      },
      "source": [
        "a1 = np.arange(10)\n",
        "a1"
      ],
      "execution_count": 78,
      "outputs": [
        {
          "output_type": "execute_result",
          "data": {
            "text/plain": [
              "array([0, 1, 2, 3, 4, 5, 6, 7, 8, 9])"
            ]
          },
          "metadata": {
            "tags": []
          },
          "execution_count": 78
        }
      ]
    },
    {
      "cell_type": "code",
      "metadata": {
        "id": "KumhQ0wzkyua",
        "outputId": "c9b82e1e-b888-4047-ad46-8077e7288d19",
        "colab": {
          "base_uri": "https://localhost:8080/"
        }
      },
      "source": [
        "a1.reshape((5, 2))"
      ],
      "execution_count": 79,
      "outputs": [
        {
          "output_type": "execute_result",
          "data": {
            "text/plain": [
              "array([[0, 1],\n",
              "       [2, 3],\n",
              "       [4, 5],\n",
              "       [6, 7],\n",
              "       [8, 9]])"
            ]
          },
          "metadata": {
            "tags": []
          },
          "execution_count": 79
        }
      ]
    },
    {
      "cell_type": "code",
      "metadata": {
        "id": "2A0PvKZrk4Ok",
        "outputId": "11585adf-83f3-4652-c5a3-7dbc1405a75e",
        "colab": {
          "base_uri": "https://localhost:8080/"
        }
      },
      "source": [
        "a1.reshape((2, 5))"
      ],
      "execution_count": 80,
      "outputs": [
        {
          "output_type": "execute_result",
          "data": {
            "text/plain": [
              "array([[0, 1, 2, 3, 4],\n",
              "       [5, 6, 7, 8, 9]])"
            ]
          },
          "metadata": {
            "tags": []
          },
          "execution_count": 80
        }
      ]
    },
    {
      "cell_type": "code",
      "metadata": {
        "id": "ZWhlgooak_Xy",
        "outputId": "ee3c9528-46ab-4a0f-b4fc-07470f34cc33",
        "colab": {
          "base_uri": "https://localhost:8080/"
        }
      },
      "source": [
        "a1.shape"
      ],
      "execution_count": 81,
      "outputs": [
        {
          "output_type": "execute_result",
          "data": {
            "text/plain": [
              "(10,)"
            ]
          },
          "metadata": {
            "tags": []
          },
          "execution_count": 81
        }
      ]
    },
    {
      "cell_type": "code",
      "metadata": {
        "id": "AoFMFJLflMI-",
        "outputId": "c1cf4e10-96ab-46fe-d85f-e82cebf3b83a",
        "colab": {
          "base_uri": "https://localhost:8080/",
          "height": 173
        }
      },
      "source": [
        "a1.reshape((3, 3))"
      ],
      "execution_count": 82,
      "outputs": [
        {
          "output_type": "error",
          "ename": "ValueError",
          "evalue": "ignored",
          "traceback": [
            "\u001b[0;31m---------------------------------------------------------------------------\u001b[0m",
            "\u001b[0;31mValueError\u001b[0m                                Traceback (most recent call last)",
            "\u001b[0;32m<ipython-input-82-dedd51335219>\u001b[0m in \u001b[0;36m<module>\u001b[0;34m()\u001b[0m\n\u001b[0;32m----> 1\u001b[0;31m \u001b[0ma1\u001b[0m\u001b[0;34m.\u001b[0m\u001b[0mreshape\u001b[0m\u001b[0;34m(\u001b[0m\u001b[0;34m(\u001b[0m\u001b[0;36m3\u001b[0m\u001b[0;34m,\u001b[0m \u001b[0;36m3\u001b[0m\u001b[0;34m)\u001b[0m\u001b[0;34m)\u001b[0m\u001b[0;34m\u001b[0m\u001b[0;34m\u001b[0m\u001b[0m\n\u001b[0m",
            "\u001b[0;31mValueError\u001b[0m: cannot reshape array of size 10 into shape (3,3)"
          ]
        }
      ]
    },
    {
      "cell_type": "code",
      "metadata": {
        "id": "zb4fQhYxlPj4",
        "outputId": "0de93c34-2c82-499d-a1c3-364ac2816f5d",
        "colab": {
          "base_uri": "https://localhost:8080/"
        }
      },
      "source": [
        "a1.reshape((1, 10))"
      ],
      "execution_count": 83,
      "outputs": [
        {
          "output_type": "execute_result",
          "data": {
            "text/plain": [
              "array([[0, 1, 2, 3, 4, 5, 6, 7, 8, 9]])"
            ]
          },
          "metadata": {
            "tags": []
          },
          "execution_count": 83
        }
      ]
    },
    {
      "cell_type": "code",
      "metadata": {
        "id": "sExMS7q0lV6a",
        "outputId": "31b86238-1fb0-4f19-cd45-efc5bd91fbb3",
        "colab": {
          "base_uri": "https://localhost:8080/"
        }
      },
      "source": [
        "a1.reshape((10, 1))"
      ],
      "execution_count": 84,
      "outputs": [
        {
          "output_type": "execute_result",
          "data": {
            "text/plain": [
              "array([[0],\n",
              "       [1],\n",
              "       [2],\n",
              "       [3],\n",
              "       [4],\n",
              "       [5],\n",
              "       [6],\n",
              "       [7],\n",
              "       [8],\n",
              "       [9]])"
            ]
          },
          "metadata": {
            "tags": []
          },
          "execution_count": 84
        }
      ]
    },
    {
      "cell_type": "code",
      "metadata": {
        "id": "kx1eOX8zlc4t"
      },
      "source": [
        "monster_array = a1.reshape((1, 1, 10 ,1))"
      ],
      "execution_count": 86,
      "outputs": []
    },
    {
      "cell_type": "code",
      "metadata": {
        "id": "WXAixo_7lf7N",
        "outputId": "c7db17c5-7633-4f2d-8192-ed1d6ba3249a",
        "colab": {
          "base_uri": "https://localhost:8080/"
        }
      },
      "source": [
        "monster_array[0, 0, 7, 0]"
      ],
      "execution_count": 87,
      "outputs": [
        {
          "output_type": "execute_result",
          "data": {
            "text/plain": [
              "7"
            ]
          },
          "metadata": {
            "tags": []
          },
          "execution_count": 87
        }
      ]
    },
    {
      "cell_type": "code",
      "metadata": {
        "id": "VMSar3V2lklI",
        "outputId": "a0978f11-b60f-4b99-c64e-51338e961095",
        "colab": {
          "base_uri": "https://localhost:8080/"
        }
      },
      "source": [
        "monster_array"
      ],
      "execution_count": 88,
      "outputs": [
        {
          "output_type": "execute_result",
          "data": {
            "text/plain": [
              "array([[[[0],\n",
              "         [1],\n",
              "         [2],\n",
              "         [3],\n",
              "         [4],\n",
              "         [5],\n",
              "         [6],\n",
              "         [7],\n",
              "         [8],\n",
              "         [9]]]])"
            ]
          },
          "metadata": {
            "tags": []
          },
          "execution_count": 88
        }
      ]
    },
    {
      "cell_type": "code",
      "metadata": {
        "id": "P0T1Ijoillzq"
      },
      "source": [
        "a = np.arange(6).reshape((2, 1, 3))"
      ],
      "execution_count": 89,
      "outputs": []
    },
    {
      "cell_type": "code",
      "metadata": {
        "id": "ghRuYmbEmjuF",
        "outputId": "ea2c9bf7-0c3a-4c34-ffcf-afce18ae1c1a",
        "colab": {
          "base_uri": "https://localhost:8080/"
        }
      },
      "source": [
        "a"
      ],
      "execution_count": 90,
      "outputs": [
        {
          "output_type": "execute_result",
          "data": {
            "text/plain": [
              "array([[[0, 1, 2]],\n",
              "\n",
              "       [[3, 4, 5]]])"
            ]
          },
          "metadata": {
            "tags": []
          },
          "execution_count": 90
        }
      ]
    },
    {
      "cell_type": "code",
      "metadata": {
        "id": "xP_cBmB7mj-A",
        "outputId": "0fc5eaf6-af02-4304-926d-0a59c8e1d1ed",
        "colab": {
          "base_uri": "https://localhost:8080/"
        }
      },
      "source": [
        "b = np.arange(9).reshape(3, 3)\n",
        "b"
      ],
      "execution_count": 91,
      "outputs": [
        {
          "output_type": "execute_result",
          "data": {
            "text/plain": [
              "array([[0, 1, 2],\n",
              "       [3, 4, 5],\n",
              "       [6, 7, 8]])"
            ]
          },
          "metadata": {
            "tags": []
          },
          "execution_count": 91
        }
      ]
    },
    {
      "cell_type": "code",
      "metadata": {
        "id": "1KsIn_QimtA4"
      },
      "source": [
        "c = a + b"
      ],
      "execution_count": 92,
      "outputs": []
    },
    {
      "cell_type": "code",
      "metadata": {
        "id": "mTtjRkFkmxfO",
        "outputId": "4b1843b3-31c2-444e-9988-3b278419d0c8",
        "colab": {
          "base_uri": "https://localhost:8080/"
        }
      },
      "source": [
        "c.shape"
      ],
      "execution_count": 93,
      "outputs": [
        {
          "output_type": "execute_result",
          "data": {
            "text/plain": [
              "(2, 3, 3)"
            ]
          },
          "metadata": {
            "tags": []
          },
          "execution_count": 93
        }
      ]
    },
    {
      "cell_type": "code",
      "metadata": {
        "id": "wKzLMdIPmyR5",
        "outputId": "636fa663-66c6-41b8-ec62-0262fc38a607",
        "colab": {
          "base_uri": "https://localhost:8080/"
        }
      },
      "source": [
        "c"
      ],
      "execution_count": 94,
      "outputs": [
        {
          "output_type": "execute_result",
          "data": {
            "text/plain": [
              "array([[[ 0,  2,  4],\n",
              "        [ 3,  5,  7],\n",
              "        [ 6,  8, 10]],\n",
              "\n",
              "       [[ 3,  5,  7],\n",
              "        [ 6,  8, 10],\n",
              "        [ 9, 11, 13]]])"
            ]
          },
          "metadata": {
            "tags": []
          },
          "execution_count": 94
        }
      ]
    },
    {
      "cell_type": "code",
      "metadata": {
        "id": "OT51CvTemzdI",
        "outputId": "555aeb1e-361f-4023-87e0-48c2dd779df7",
        "colab": {
          "base_uri": "https://localhost:8080/"
        }
      },
      "source": [
        "b.reshape((1, 3, 3))"
      ],
      "execution_count": 95,
      "outputs": [
        {
          "output_type": "execute_result",
          "data": {
            "text/plain": [
              "array([[[0, 1, 2],\n",
              "        [3, 4, 5],\n",
              "        [6, 7, 8]]])"
            ]
          },
          "metadata": {
            "tags": []
          },
          "execution_count": 95
        }
      ]
    },
    {
      "cell_type": "code",
      "metadata": {
        "id": "DF73KKNqm4Ap",
        "outputId": "cf3dde9a-0b68-4787-b305-e4b1437e666b",
        "colab": {
          "base_uri": "https://localhost:8080/"
        }
      },
      "source": [
        "a = np.arange(9).reshape(3, 3)\n",
        "a"
      ],
      "execution_count": 96,
      "outputs": [
        {
          "output_type": "execute_result",
          "data": {
            "text/plain": [
              "array([[0, 1, 2],\n",
              "       [3, 4, 5],\n",
              "       [6, 7, 8]])"
            ]
          },
          "metadata": {
            "tags": []
          },
          "execution_count": 96
        }
      ]
    },
    {
      "cell_type": "code",
      "metadata": {
        "id": "hBflnuFgnOgt"
      },
      "source": [
        "b = np.array([10, 100, 1000])"
      ],
      "execution_count": 97,
      "outputs": []
    },
    {
      "cell_type": "code",
      "metadata": {
        "id": "5CajfpQJnTVB",
        "outputId": "6d84d069-d8d6-4a15-c2c7-16ee27b21446",
        "colab": {
          "base_uri": "https://localhost:8080/"
        }
      },
      "source": [
        "a.shape"
      ],
      "execution_count": 98,
      "outputs": [
        {
          "output_type": "execute_result",
          "data": {
            "text/plain": [
              "(3, 3)"
            ]
          },
          "metadata": {
            "tags": []
          },
          "execution_count": 98
        }
      ]
    },
    {
      "cell_type": "code",
      "metadata": {
        "id": "tA7aPeuBnU-e",
        "outputId": "f95dcb87-f5d6-4c0d-e092-56b2bd69adad",
        "colab": {
          "base_uri": "https://localhost:8080/"
        }
      },
      "source": [
        "b.shape"
      ],
      "execution_count": 99,
      "outputs": [
        {
          "output_type": "execute_result",
          "data": {
            "text/plain": [
              "(3,)"
            ]
          },
          "metadata": {
            "tags": []
          },
          "execution_count": 99
        }
      ]
    },
    {
      "cell_type": "code",
      "metadata": {
        "id": "a5Xp-N_bnVyF",
        "outputId": "3fcd4609-1ce1-4a13-fe70-5192e9b1a460",
        "colab": {
          "base_uri": "https://localhost:8080/"
        }
      },
      "source": [
        "a + b"
      ],
      "execution_count": 100,
      "outputs": [
        {
          "output_type": "execute_result",
          "data": {
            "text/plain": [
              "array([[  10,  101, 1002],\n",
              "       [  13,  104, 1005],\n",
              "       [  16,  107, 1008]])"
            ]
          },
          "metadata": {
            "tags": []
          },
          "execution_count": 100
        }
      ]
    },
    {
      "cell_type": "code",
      "metadata": {
        "id": "JLjjhhqCnXfr",
        "outputId": "30390799-b482-4655-cdd0-330e3ebfe5e7",
        "colab": {
          "base_uri": "https://localhost:8080/"
        }
      },
      "source": [
        "a * b"
      ],
      "execution_count": 101,
      "outputs": [
        {
          "output_type": "execute_result",
          "data": {
            "text/plain": [
              "array([[   0,  100, 2000],\n",
              "       [  30,  400, 5000],\n",
              "       [  60,  700, 8000]])"
            ]
          },
          "metadata": {
            "tags": []
          },
          "execution_count": 101
        }
      ]
    },
    {
      "cell_type": "code",
      "metadata": {
        "id": "R-z6CEx_nfJZ",
        "outputId": "c2a91710-3567-42e0-af02-780763ba4d81",
        "colab": {
          "base_uri": "https://localhost:8080/"
        }
      },
      "source": [
        "a @ b"
      ],
      "execution_count": 102,
      "outputs": [
        {
          "output_type": "execute_result",
          "data": {
            "text/plain": [
              "array([2100, 5430, 8760])"
            ]
          },
          "metadata": {
            "tags": []
          },
          "execution_count": 102
        }
      ]
    },
    {
      "cell_type": "code",
      "metadata": {
        "id": "SilIKmH0nkUA",
        "outputId": "f6f56909-41ab-4eda-9e48-ebcba18e549e",
        "colab": {
          "base_uri": "https://localhost:8080/"
        }
      },
      "source": [
        "b"
      ],
      "execution_count": 103,
      "outputs": [
        {
          "output_type": "execute_result",
          "data": {
            "text/plain": [
              "array([  10,  100, 1000])"
            ]
          },
          "metadata": {
            "tags": []
          },
          "execution_count": 103
        }
      ]
    },
    {
      "cell_type": "code",
      "metadata": {
        "id": "4X0wBlQNntR_"
      },
      "source": [
        "d = b.reshape((3, 1))"
      ],
      "execution_count": 104,
      "outputs": []
    },
    {
      "cell_type": "code",
      "metadata": {
        "id": "yC1Zb1Uonwpz",
        "outputId": "602052a6-219b-43a3-c94d-b5f68ce9f446",
        "colab": {
          "base_uri": "https://localhost:8080/"
        }
      },
      "source": [
        "d"
      ],
      "execution_count": 105,
      "outputs": [
        {
          "output_type": "execute_result",
          "data": {
            "text/plain": [
              "array([[  10],\n",
              "       [ 100],\n",
              "       [1000]])"
            ]
          },
          "metadata": {
            "tags": []
          },
          "execution_count": 105
        }
      ]
    },
    {
      "cell_type": "code",
      "metadata": {
        "id": "B5U06ttonxFM",
        "outputId": "c3b309bc-bbd5-4721-8743-8514d0d2627c",
        "colab": {
          "base_uri": "https://localhost:8080/"
        }
      },
      "source": [
        "b * d"
      ],
      "execution_count": 106,
      "outputs": [
        {
          "output_type": "execute_result",
          "data": {
            "text/plain": [
              "array([[    100,    1000,   10000],\n",
              "       [   1000,   10000,  100000],\n",
              "       [  10000,  100000, 1000000]])"
            ]
          },
          "metadata": {
            "tags": []
          },
          "execution_count": 106
        }
      ]
    },
    {
      "cell_type": "code",
      "metadata": {
        "id": "1NFIvef5n1Xd",
        "outputId": "f91a7dec-d2c1-4658-b18d-5152d8a0be0c",
        "colab": {
          "base_uri": "https://localhost:8080/"
        }
      },
      "source": [
        "b"
      ],
      "execution_count": 107,
      "outputs": [
        {
          "output_type": "execute_result",
          "data": {
            "text/plain": [
              "array([  10,  100, 1000])"
            ]
          },
          "metadata": {
            "tags": []
          },
          "execution_count": 107
        }
      ]
    },
    {
      "cell_type": "code",
      "metadata": {
        "id": "LwwnCY6Sn6eR",
        "outputId": "e747bb94-c43e-4214-ad1a-f69a0c0a0232",
        "colab": {
          "base_uri": "https://localhost:8080/"
        }
      },
      "source": [
        "b.reshape((3, 1)) * b"
      ],
      "execution_count": 108,
      "outputs": [
        {
          "output_type": "execute_result",
          "data": {
            "text/plain": [
              "array([[    100,    1000,   10000],\n",
              "       [   1000,   10000,  100000],\n",
              "       [  10000,  100000, 1000000]])"
            ]
          },
          "metadata": {
            "tags": []
          },
          "execution_count": 108
        }
      ]
    },
    {
      "cell_type": "code",
      "metadata": {
        "id": "8aHqlSNXn9or"
      },
      "source": [
        "#M[i, j] = b[i] * b[j]"
      ],
      "execution_count": 109,
      "outputs": []
    },
    {
      "cell_type": "code",
      "metadata": {
        "id": "zevffEvuoNcQ"
      },
      "source": [
        "# (3, 1) * (3,)\n",
        "# (3, 1) * (1, 3)\n",
        "# d = ( b1\n",
        "#       b2\n",
        "#       b3\n",
        "#)"
      ],
      "execution_count": 111,
      "outputs": []
    },
    {
      "cell_type": "code",
      "metadata": {
        "id": "i_dkEl_noTf7"
      },
      "source": [
        "# d =\n",
        "#  ( b1     b1    b1\n",
        "#    b2     b2    b2\n",
        "#    b3     b3    b3\n",
        "#   )"
      ],
      "execution_count": 112,
      "outputs": []
    },
    {
      "cell_type": "code",
      "metadata": {
        "id": "MsqNn5Xboqa1"
      },
      "source": [
        "# (3, 3) * (1, 3)\n",
        "# b = (b1     b2    b3)"
      ],
      "execution_count": 113,
      "outputs": []
    },
    {
      "cell_type": "code",
      "metadata": {
        "id": "vwmEQ--joz5d"
      },
      "source": [
        " # b =\n",
        " #    (b1     b2    b3)\n",
        " #    (b1     b2    b3)\n",
        " #    (b1     b2    b3)"
      ],
      "execution_count": 114,
      "outputs": []
    },
    {
      "cell_type": "code",
      "metadata": {
        "id": "sSsFyHwNo8nk"
      },
      "source": [
        "# (3, 3) * (3, 3)\n",
        "\n",
        "# M[i, j] = d[i, j] * b[i, j] = bi * bj"
      ],
      "execution_count": 115,
      "outputs": []
    },
    {
      "cell_type": "code",
      "metadata": {
        "id": "U98JeMlHpOho"
      },
      "source": [
        "def build_lagrangian_basis(q, e):\n",
        "  n_q_points = q.shape[0]\n",
        "  n_e_points = e.shape[0]\n",
        "\n",
        "  # basis[i, j] is the value of l[j] on the point e[i] where\n",
        "  # l[j] is the lagrange polynomial that is 1 on q[j] and 0\n",
        "  # on q[k] for k != j\n",
        "  basis = np.ones((n_e_points, n_q_points), dtype=np.float64)\n",
        "\n",
        "  for i in range(n_e_points):\n",
        "    for j in range(n_q_points):\n",
        "      for k in range(n_q_points):\n",
        "        if k == j:\n",
        "          continue\n",
        "        basis[i, j] *= (e[i] - q[k]) / (q[j] - q[k])\n",
        "  \n",
        "  return basis"
      ],
      "execution_count": 116,
      "outputs": []
    },
    {
      "cell_type": "code",
      "metadata": {
        "id": "Rdo9Bmq7rxEW",
        "outputId": "62d39572-a7fb-4045-97e3-62e9c38f1d46",
        "colab": {
          "base_uri": "https://localhost:8080/",
          "height": 338
        }
      },
      "source": [
        "import matplotlib.pyplot as plt\n",
        "\n",
        "e = np.linspace(0, 1, 100)\n",
        "q = np.linspace(0, 1, 4)\n",
        "\n",
        "basis = build_lagrangian_basis(q, e)\n",
        "plt.plot(e, basis)"
      ],
      "execution_count": 130,
      "outputs": [
        {
          "output_type": "execute_result",
          "data": {
            "text/plain": [
              "[<matplotlib.lines.Line2D at 0x7f8237702128>,\n",
              " <matplotlib.lines.Line2D at 0x7f8237702240>,\n",
              " <matplotlib.lines.Line2D at 0x7f8237702390>,\n",
              " <matplotlib.lines.Line2D at 0x7f82377024e0>]"
            ]
          },
          "metadata": {
            "tags": []
          },
          "execution_count": 130
        },
        {
          "output_type": "display_data",
          "data": {
            "image/png": "[encoded data removed]",
            "text/plain": [
              "<Figure size 432x288 with 1 Axes>"
            ]
          },
          "metadata": {
            "tags": [],
            "needs_background": "light"
          }
        }
      ]
    },
    {
      "cell_type": "code",
      "metadata": {
        "id": "vJl0jUyzr-iX"
      },
      "source": [
        "def interpolate(f, q, e):\n",
        "  n_q_points = q.shape[0]\n",
        "  n_e_points = e.shape[0]\n",
        "\n",
        "  basis = build_lagrangian_basis(q, e)\n",
        "\n",
        "  f_e = np.zeros((n_e_points,), dtype=np.float64)\n",
        "\n",
        "  for i in range(n_e_points):\n",
        "    for j in range(n_q_points):\n",
        "      f_e[i] += basis[i, j] * f(q[j])\n",
        "  return f_e"
      ],
      "execution_count": 126,
      "outputs": []
    },
    {
      "cell_type": "code",
      "metadata": {
        "id": "tc_T8x21sdWU"
      },
      "source": [
        "def f(x):\n",
        "  return np.sin(2 * np.pi * x)"
      ],
      "execution_count": 127,
      "outputs": []
    },
    {
      "cell_type": "code",
      "metadata": {
        "id": "hU2o-uTsssAv",
        "outputId": "394728c5-436d-4d1a-c9a0-179b8a656bbc",
        "colab": {
          "base_uri": "https://localhost:8080/",
          "height": 283
        }
      },
      "source": [
        "f_interp = interpolate(f, q, e)\n",
        "plt.plot(e, f_interp)\n",
        "plt.plot(e, f(e), color=\"red\")"
      ],
      "execution_count": 131,
      "outputs": [
        {
          "output_type": "execute_result",
          "data": {
            "text/plain": [
              "[<matplotlib.lines.Line2D at 0x7f82377ed6a0>]"
            ]
          },
          "metadata": {
            "tags": []
          },
          "execution_count": 131
        },
        {
          "output_type": "display_data",
          "data": {
            "image/png": "[encoded data removed]",
            "text/plain": [
              "<Figure size 432x288 with 1 Axes>"
            ]
          },
          "metadata": {
            "tags": [],
            "needs_background": "light"
          }
        }
      ]
    },
    {
      "cell_type": "code",
      "metadata": {
        "id": "UQPQfWEqsutJ"
      },
      "source": [
        "def build_lagrangian_basis_2d(q_x, q_y, e_x, e_y):\n",
        "  # For a point P_{i, j} of coordinates q_x[i], q_y[j], we want to compute the\n",
        "  # value of the polynomial L_{k, l} on the point P_{i, j}.\n",
        "  # basis[i, j, k, l] is the value of L_{k, l} on the point (e_x[i], e_y[j])\n",
        "  n_q_x_points = q_x.shape[0]\n",
        "  n_q_y_points = q_y.shape[0]\n",
        "  n_e_x_points = e_x.shape[0]\n",
        "  n_e_y_points = e_y.shape[0]\n",
        "\n",
        "  basis_shape = (n_e_x_points, n_e_y_points, n_q_x_points, n_q_y_points)\n",
        "  basis = np.empty(basis_shape, dtype=np.float64)\n",
        "\n",
        "  b1 = build_lagrangian_basis(q_x, e_x)\n",
        "  b2 = build_lagrangian_basis(q_y, e_y)\n",
        "\n",
        "  for i in range(n_e_x_points):\n",
        "    for j in range(n_e_y_points):\n",
        "      for k in range(n_q_x_points):\n",
        "        for l in range(n_q_y_points):\n",
        "          basis[i, j, k , l] = b1[i, k] * b2[j, l]\n",
        "  \n",
        "  return basis\n",
        "\n"
      ],
      "execution_count": 136,
      "outputs": []
    },
    {
      "cell_type": "code",
      "metadata": {
        "id": "xbbnWT0qvD6W"
      },
      "source": [
        "q_x = np.linspace(0, 1, 10)\n",
        "q_y = np.linspace(0, 1, 10)\n",
        "e_x = np.linspace(0, 1, 25)\n",
        "e_y = np.linspace(0, 1, 27)\n",
        "\n",
        "# build_lagrangian_basis_2d(q_x, q_y, e_x, e_y)"
      ],
      "execution_count": 170,
      "outputs": []
    },
    {
      "cell_type": "code",
      "metadata": {
        "id": "57vKDZlyvcaG"
      },
      "source": [
        "def interpolate_2d(f, q_x, q_y, e_x, e_y):\n",
        "  n_q_x_points = q_x.shape[0]\n",
        "  n_q_y_points = q_y.shape[0]\n",
        "  n_e_x_points = e_x.shape[0]\n",
        "  n_e_y_points = e_y.shape[0]\n",
        "\n",
        "  f_e = np.zeros((n_e_x_points, n_e_y_points), dtype=np.float64)\n",
        "\n",
        "  basis = build_lagrangian_basis_2d(q_x, q_y, e_x, e_y)\n",
        "\n",
        "  for i in range(n_e_x_points):\n",
        "    for j in range(n_e_y_points):\n",
        "      for k in range(n_q_x_points):\n",
        "        for l in range(n_q_y_points):\n",
        "          f_e[i, j] += basis[i, j, k, l] * f(q_x[k], q_y[l])\n",
        "  return f_e\n"
      ],
      "execution_count": 166,
      "outputs": []
    },
    {
      "cell_type": "code",
      "metadata": {
        "id": "1zU1MFxawXBn"
      },
      "source": [
        "def f(x, y):\n",
        "  return np.sin(2 * np.pi * x) + y * y"
      ],
      "execution_count": 159,
      "outputs": []
    },
    {
      "cell_type": "code",
      "metadata": {
        "id": "ip9zhHq9wgzm"
      },
      "source": [
        "f_interpolated = interpolate_2d(f, q_x, q_y, e_x, e_y)"
      ],
      "execution_count": 171,
      "outputs": []
    },
    {
      "cell_type": "code",
      "metadata": {
        "id": "iYLV2Cs6wmG_"
      },
      "source": [
        "def evaluate_f(e_x, e_y):\n",
        "  n_e_x_points = e_x.shape[0]\n",
        "  n_e_y_points = e_y.shape[0]\n",
        "  f_e = np.empty((n_e_x_points, n_e_y_points), dtype=np.float64)\n",
        "\n",
        "  for i in range(n_e_x_points):\n",
        "    for j in range(n_e_y_points):\n",
        "      f_e[i, j] = f(e_x[i], e_y[j])\n",
        "  return f_e"
      ],
      "execution_count": 144,
      "outputs": []
    },
    {
      "cell_type": "code",
      "metadata": {
        "id": "ewWSpS3wxQxt"
      },
      "source": [
        "f_evaluated = evaluate_f(e_x, e_y)"
      ],
      "execution_count": 172,
      "outputs": []
    },
    {
      "cell_type": "code",
      "metadata": {
        "id": "nSmRplgnxURW",
        "outputId": "db8641cb-10e9-4ea2-8eab-a628f53b37aa",
        "colab": {
          "base_uri": "https://localhost:8080/"
        }
      },
      "source": [
        "np.max(np.abs(f_interpolated - f_evaluated))"
      ],
      "execution_count": 174,
      "outputs": [
        {
          "output_type": "execute_result",
          "data": {
            "text/plain": [
              "6.787240547706519e-05"
            ]
          },
          "metadata": {
            "tags": []
          },
          "execution_count": 174
        }
      ]
    },
    {
      "cell_type": "code",
      "metadata": {
        "id": "LYejuG5GxdFV",
        "outputId": "8bbb55f9-73f0-42db-d5dc-1ca40f865dd8",
        "colab": {
          "base_uri": "https://localhost:8080/",
          "height": 362
        }
      },
      "source": [
        "q_x = np.linspace(0, 1, 20)\n",
        "q_y = np.linspace(0, 1, 20)\n",
        "e_x = np.linspace(0, 1, 1025)\n",
        "e_y = np.linspace(0, 1, 1025)\n",
        "\n",
        "interpolate_2d(f, q_x, q_y, e_x, e_y)"
      ],
      "execution_count": 175,
      "outputs": [
        {
          "output_type": "error",
          "ename": "KeyboardInterrupt",
          "evalue": "ignored",
          "traceback": [
            "\u001b[0;31m---------------------------------------------------------------------------\u001b[0m",
            "\u001b[0;31mKeyboardInterrupt\u001b[0m                         Traceback (most recent call last)",
            "\u001b[0;32m<ipython-input-175-ef9314642701>\u001b[0m in \u001b[0;36m<module>\u001b[0;34m()\u001b[0m\n\u001b[1;32m      4\u001b[0m \u001b[0me_y\u001b[0m \u001b[0;34m=\u001b[0m \u001b[0mnp\u001b[0m\u001b[0;34m.\u001b[0m\u001b[0mlinspace\u001b[0m\u001b[0;34m(\u001b[0m\u001b[0;36m0\u001b[0m\u001b[0;34m,\u001b[0m \u001b[0;36m1\u001b[0m\u001b[0;34m,\u001b[0m \u001b[0;36m1025\u001b[0m\u001b[0;34m)\u001b[0m\u001b[0;34m\u001b[0m\u001b[0;34m\u001b[0m\u001b[0m\n\u001b[1;32m      5\u001b[0m \u001b[0;34m\u001b[0m\u001b[0m\n\u001b[0;32m----> 6\u001b[0;31m \u001b[0minterpolate_2d\u001b[0m\u001b[0;34m(\u001b[0m\u001b[0mf\u001b[0m\u001b[0;34m,\u001b[0m \u001b[0mq_x\u001b[0m\u001b[0;34m,\u001b[0m \u001b[0mq_y\u001b[0m\u001b[0;34m,\u001b[0m \u001b[0me_x\u001b[0m\u001b[0;34m,\u001b[0m \u001b[0me_y\u001b[0m\u001b[0;34m)\u001b[0m\u001b[0;34m\u001b[0m\u001b[0;34m\u001b[0m\u001b[0m\n\u001b[0m",
            "\u001b[0;32m<ipython-input-166-1275da8c1a53>\u001b[0m in \u001b[0;36minterpolate_2d\u001b[0;34m(f, q_x, q_y, e_x, e_y)\u001b[0m\n\u001b[1;32m      7\u001b[0m   \u001b[0mf_e\u001b[0m \u001b[0;34m=\u001b[0m \u001b[0mnp\u001b[0m\u001b[0;34m.\u001b[0m\u001b[0mzeros\u001b[0m\u001b[0;34m(\u001b[0m\u001b[0;34m(\u001b[0m\u001b[0mn_e_x_points\u001b[0m\u001b[0;34m,\u001b[0m \u001b[0mn_e_y_points\u001b[0m\u001b[0;34m)\u001b[0m\u001b[0;34m,\u001b[0m \u001b[0mdtype\u001b[0m\u001b[0;34m=\u001b[0m\u001b[0mnp\u001b[0m\u001b[0;34m.\u001b[0m\u001b[0mfloat64\u001b[0m\u001b[0;34m)\u001b[0m\u001b[0;34m\u001b[0m\u001b[0;34m\u001b[0m\u001b[0m\n\u001b[1;32m      8\u001b[0m \u001b[0;34m\u001b[0m\u001b[0m\n\u001b[0;32m----> 9\u001b[0;31m   \u001b[0mbasis\u001b[0m \u001b[0;34m=\u001b[0m \u001b[0mbuild_lagrangian_basis_2d\u001b[0m\u001b[0;34m(\u001b[0m\u001b[0mq_x\u001b[0m\u001b[0;34m,\u001b[0m \u001b[0mq_y\u001b[0m\u001b[0;34m,\u001b[0m \u001b[0me_x\u001b[0m\u001b[0;34m,\u001b[0m \u001b[0me_y\u001b[0m\u001b[0;34m)\u001b[0m\u001b[0;34m\u001b[0m\u001b[0;34m\u001b[0m\u001b[0m\n\u001b[0m\u001b[1;32m     10\u001b[0m \u001b[0;34m\u001b[0m\u001b[0m\n\u001b[1;32m     11\u001b[0m   \u001b[0;32mfor\u001b[0m \u001b[0mi\u001b[0m \u001b[0;32min\u001b[0m \u001b[0mrange\u001b[0m\u001b[0;34m(\u001b[0m\u001b[0mn_e_x_points\u001b[0m\u001b[0;34m)\u001b[0m\u001b[0;34m:\u001b[0m\u001b[0;34m\u001b[0m\u001b[0;34m\u001b[0m\u001b[0m\n",
            "\u001b[0;32m<ipython-input-136-e91207578b80>\u001b[0m in \u001b[0;36mbuild_lagrangian_basis_2d\u001b[0;34m(q_x, q_y, e_x, e_y)\u001b[0m\n\u001b[1;32m     18\u001b[0m       \u001b[0;32mfor\u001b[0m \u001b[0mk\u001b[0m \u001b[0;32min\u001b[0m \u001b[0mrange\u001b[0m\u001b[0;34m(\u001b[0m\u001b[0mn_q_x_points\u001b[0m\u001b[0;34m)\u001b[0m\u001b[0;34m:\u001b[0m\u001b[0;34m\u001b[0m\u001b[0;34m\u001b[0m\u001b[0m\n\u001b[1;32m     19\u001b[0m         \u001b[0;32mfor\u001b[0m \u001b[0ml\u001b[0m \u001b[0;32min\u001b[0m \u001b[0mrange\u001b[0m\u001b[0;34m(\u001b[0m\u001b[0mn_q_y_points\u001b[0m\u001b[0;34m)\u001b[0m\u001b[0;34m:\u001b[0m\u001b[0;34m\u001b[0m\u001b[0;34m\u001b[0m\u001b[0m\n\u001b[0;32m---> 20\u001b[0;31m           \u001b[0mbasis\u001b[0m\u001b[0;34m[\u001b[0m\u001b[0mi\u001b[0m\u001b[0;34m,\u001b[0m \u001b[0mj\u001b[0m\u001b[0;34m,\u001b[0m \u001b[0mk\u001b[0m \u001b[0;34m,\u001b[0m \u001b[0ml\u001b[0m\u001b[0;34m]\u001b[0m \u001b[0;34m=\u001b[0m \u001b[0mb1\u001b[0m\u001b[0;34m[\u001b[0m\u001b[0mi\u001b[0m\u001b[0;34m,\u001b[0m \u001b[0mk\u001b[0m\u001b[0;34m]\u001b[0m \u001b[0;34m*\u001b[0m \u001b[0mb2\u001b[0m\u001b[0;34m[\u001b[0m\u001b[0mj\u001b[0m\u001b[0;34m,\u001b[0m \u001b[0ml\u001b[0m\u001b[0;34m]\u001b[0m\u001b[0;34m\u001b[0m\u001b[0;34m\u001b[0m\u001b[0m\n\u001b[0m\u001b[1;32m     21\u001b[0m \u001b[0;34m\u001b[0m\u001b[0m\n\u001b[1;32m     22\u001b[0m   \u001b[0;32mreturn\u001b[0m \u001b[0mbasis\u001b[0m\u001b[0;34m\u001b[0m\u001b[0;34m\u001b[0m\u001b[0m\n",
            "\u001b[0;31mKeyboardInterrupt\u001b[0m: "
          ]
        }
      ]
    },
    {
      "cell_type": "code",
      "metadata": {
        "id": "t9mMAwb8zMHg",
        "outputId": "b1fa0f88-9bc4-430a-e134-4dfa1e4c8f4a",
        "colab": {
          "base_uri": "https://localhost:8080/"
        }
      },
      "source": [
        "q_x = np.linspace(0, 1, 10)\n",
        "q_y = np.linspace(0, 1, 10)\n",
        "e_x = np.linspace(0, 1, 64)\n",
        "e_y = np.linspace(0, 1, 64)\n",
        "\n",
        "%timeit interpolate_2d(f, q_x, q_y, e_x, e_y)"
      ],
      "execution_count": 176,
      "outputs": [
        {
          "output_type": "stream",
          "text": [
            "1 loop, best of 3: 1.41 s per loop\n"
          ],
          "name": "stdout"
        }
      ]
    },
    {
      "cell_type": "code",
      "metadata": {
        "id": "UjVcR7uOzVYo",
        "outputId": "a7f82585-a2b5-4785-d45d-9c0749389db0",
        "colab": {
          "base_uri": "https://localhost:8080/"
        }
      },
      "source": [
        "q_x = np.linspace(0, 1, 10)\n",
        "q_y = np.linspace(0, 1, 10)\n",
        "e_x = np.linspace(0, 1, 64)\n",
        "e_y = np.linspace(0, 1, 128)\n",
        "\n",
        "%timeit interpolate_2d(f, q_x, q_y, e_x, e_y)"
      ],
      "execution_count": 177,
      "outputs": [
        {
          "output_type": "stream",
          "text": [
            "1 loop, best of 3: 2.79 s per loop\n"
          ],
          "name": "stdout"
        }
      ]
    },
    {
      "cell_type": "code",
      "metadata": {
        "id": "GjfcXSDOzfg9",
        "outputId": "fb6928f9-4b2f-4f39-9c99-a41690171bb9",
        "colab": {
          "base_uri": "https://localhost:8080/"
        }
      },
      "source": [
        "q_x = np.linspace(0, 1, 10)\n",
        "q_y = np.linspace(0, 1, 10)\n",
        "e_x = np.linspace(0, 1, 64)\n",
        "e_y = np.linspace(0, 1, 64)\n",
        "\n",
        "%timeit interpolate_2d(f, q_x, q_y, e_x, e_y)"
      ],
      "execution_count": 179,
      "outputs": [
        {
          "output_type": "stream",
          "text": [
            "1 loop, best of 3: 1.38 s per loop\n"
          ],
          "name": "stdout"
        }
      ]
    },
    {
      "cell_type": "code",
      "metadata": {
        "id": "sznSDjbqzoxK",
        "outputId": "f14c0254-edf6-493f-ed65-9b858e3b1e5f",
        "colab": {
          "base_uri": "https://localhost:8080/"
        }
      },
      "source": [
        "1.5 * 2 * 2 * 64 * 64"
      ],
      "execution_count": 180,
      "outputs": [
        {
          "output_type": "execute_result",
          "data": {
            "text/plain": [
              "24576.0"
            ]
          },
          "metadata": {
            "tags": []
          },
          "execution_count": 180
        }
      ]
    },
    {
      "cell_type": "code",
      "metadata": {
        "id": "qL8yn6F0z9ZI",
        "outputId": "6d9c2cb8-fcca-4178-cd15-6443e9955f3c",
        "colab": {
          "base_uri": "https://localhost:8080/"
        }
      },
      "source": [
        "1.5 * 2 * 2 * 64 * 64 / 60 / 60"
      ],
      "execution_count": 183,
      "outputs": [
        {
          "output_type": "execute_result",
          "data": {
            "text/plain": [
              "6.826666666666667"
            ]
          },
          "metadata": {
            "tags": []
          },
          "execution_count": 183
        }
      ]
    },
    {
      "cell_type": "code",
      "metadata": {
        "id": "Q9QtuQb3z_9l",
        "outputId": "75c733dd-a8e2-4335-e263-004371ed2e8a",
        "colab": {
          "base_uri": "https://localhost:8080/"
        }
      },
      "source": [
        "%prun interpolate_2d(f, q_x, q_y, e_x, e_y)"
      ],
      "execution_count": 184,
      "outputs": [
        {
          "output_type": "stream",
          "text": [
            " "
          ],
          "name": "stdout"
        }
      ]
    },
    {
      "cell_type": "code",
      "metadata": {
        "id": "mtgwZw-L0MEo"
      },
      "source": [
        "def interpolate_2d(f, q_x, q_y, e_x, e_y):\n",
        "  n_q_x_points = q_x.shape[0]\n",
        "  n_q_y_points = q_y.shape[0]\n",
        "  n_e_x_points = e_x.shape[0]\n",
        "  n_e_y_points = e_y.shape[0]\n",
        "\n",
        "  f_e = np.zeros((n_e_x_points, n_e_y_points), dtype=np.float64)\n",
        "\n",
        "  basis = build_lagrangian_basis_2d(q_x, q_y, e_x, e_y)\n",
        "\n",
        "  f_q = evaluate_f(q_x, q_y)\n",
        "\n",
        "  for i in range(n_e_x_points):\n",
        "    for j in range(n_e_y_points):\n",
        "      for k in range(n_q_x_points):\n",
        "        for l in range(n_q_y_points):\n",
        "          f_e[i, j] += basis[i, j, k, l] * f_q[k, l]\n",
        "  return f_e"
      ],
      "execution_count": 185,
      "outputs": []
    },
    {
      "cell_type": "code",
      "metadata": {
        "id": "DdFxO3HV1AI0",
        "outputId": "fc2c5c5e-fb25-4eb7-b035-aa2fe96fc688",
        "colab": {
          "base_uri": "https://localhost:8080/"
        }
      },
      "source": [
        "%prun interpolate_2d(f, q_x, q_y, e_x, e_y)"
      ],
      "execution_count": 186,
      "outputs": [
        {
          "output_type": "stream",
          "text": [
            " "
          ],
          "name": "stdout"
        }
      ]
    },
    {
      "cell_type": "code",
      "metadata": {
        "id": "dVoh1NCp1CA2"
      },
      "source": [
        "def interpolate_2d(f, q_x, q_y, e_x, e_y):\n",
        "  n_q_x_points = q_x.shape[0]\n",
        "  n_q_y_points = q_y.shape[0]\n",
        "  n_e_x_points = e_x.shape[0]\n",
        "  n_e_y_points = e_y.shape[0]\n",
        "\n",
        "  f_e = np.zeros((n_e_x_points, n_e_y_points), dtype=np.float64)\n",
        "\n",
        "  basis = build_lagrangian_basis_2d(q_x, q_y, e_x, e_y)\n",
        "\n",
        "  f_q = evaluate_f(q_x, q_y)\n",
        "\n",
        "  for k in range(n_q_x_points):\n",
        "    for l in range(n_q_y_points):\n",
        "      f_e[:, :] += basis[:, :, k, l] * f_q[k, l]\n",
        "  return f_e"
      ],
      "execution_count": 187,
      "outputs": []
    },
    {
      "cell_type": "code",
      "metadata": {
        "id": "SHU6pBfn1mf8",
        "outputId": "16bf0acb-647d-4d38-a8ec-aa6598472592",
        "colab": {
          "base_uri": "https://localhost:8080/"
        }
      },
      "source": [
        "%prun interpolate_2d(f, q_x, q_y, e_x, e_y)"
      ],
      "execution_count": 188,
      "outputs": [
        {
          "output_type": "stream",
          "text": [
            " "
          ],
          "name": "stdout"
        }
      ]
    },
    {
      "cell_type": "code",
      "metadata": {
        "id": "3x6QUp721n_U"
      },
      "source": [
        "def build_lagrangian_basis_2d(q_x, q_y, e_x, e_y):\n",
        "  # For a point P_{i, j} of coordinates q_x[i], q_y[j], we want to compute the\n",
        "  # value of the polynomial L_{k, l} on the point P_{i, j}.\n",
        "  # basis[i, j, k, l] is the value of L_{k, l} on the point (e_x[i], e_y[j])\n",
        "  n_q_x_points = q_x.shape[0]\n",
        "  n_q_y_points = q_y.shape[0]\n",
        "  n_e_x_points = e_x.shape[0]\n",
        "  n_e_y_points = e_y.shape[0]\n",
        "\n",
        "  b1 = build_lagrangian_basis(q_x, e_x)\n",
        "  b2 = build_lagrangian_basis(q_y, e_y)\n",
        "\n",
        "  b1 = b1.reshape((n_e_x_points, 1, n_q_x_points, 1))\n",
        "  b2 = b2.reshape((1, n_e_y_points, 1, n_q_y_points))\n",
        "\n",
        "  basis = b1 * b2\n",
        "  \n",
        "  return basis"
      ],
      "execution_count": 196,
      "outputs": []
    },
    {
      "cell_type": "code",
      "metadata": {
        "id": "HGeisH4W2Fwu",
        "outputId": "ca17dc29-94f2-48ed-c5af-41d512b408f0",
        "colab": {
          "base_uri": "https://localhost:8080/"
        }
      },
      "source": [
        "%prun interpolate_2d(f, q_x, q_y, e_x, e_y)"
      ],
      "execution_count": 197,
      "outputs": [
        {
          "output_type": "stream",
          "text": [
            " "
          ],
          "name": "stdout"
        }
      ]
    },
    {
      "cell_type": "code",
      "metadata": {
        "id": "UkG3aYpp2TdI",
        "outputId": "47e459e3-21f7-40cd-e303-08828eb50b3e",
        "colab": {
          "base_uri": "https://localhost:8080/"
        }
      },
      "source": [
        "f_interpolated = interpolate_2d(f, q_x, q_y, e_x, e_y)\n",
        "f_evaluated = evaluate_f(e_x, e_y)\n",
        "np.max(np.abs(f_interpolated - f_evaluated))"
      ],
      "execution_count": 198,
      "outputs": [
        {
          "output_type": "execute_result",
          "data": {
            "text/plain": [
              "7.222345324953139e-05"
            ]
          },
          "metadata": {
            "tags": []
          },
          "execution_count": 198
        }
      ]
    },
    {
      "cell_type": "code",
      "metadata": {
        "id": "PcT76Z7d21eM",
        "outputId": "e1562b19-16b8-4fd6-fa54-c61cd73c8c0e",
        "colab": {
          "base_uri": "https://localhost:8080/"
        }
      },
      "source": [
        "q_x = np.linspace(0, 1, 10)\n",
        "q_y = np.linspace(0, 1, 10)\n",
        "e_x = np.linspace(0, 1, 1024)\n",
        "e_y = np.linspace(0, 1, 1024)\n",
        "\n",
        "%timeit interpolate_2d(f, q_x, q_y, e_x, e_y)"
      ],
      "execution_count": 201,
      "outputs": [
        {
          "output_type": "stream",
          "text": [
            "1 loop, best of 3: 1.69 s per loop\n"
          ],
          "name": "stdout"
        }
      ]
    },
    {
      "cell_type": "code",
      "metadata": {
        "id": "musBQ4a62_Pz",
        "outputId": "57b8134e-3091-4bcb-aee7-9461fc4e4e06",
        "colab": {
          "base_uri": "https://localhost:8080/"
        }
      },
      "source": [
        "%prun interpolate_2d(f, q_x, q_y, e_x, e_y)"
      ],
      "execution_count": 202,
      "outputs": [
        {
          "output_type": "stream",
          "text": [
            " "
          ],
          "name": "stdout"
        }
      ]
    },
    {
      "cell_type": "code",
      "metadata": {
        "id": "K9M2DNJ-3N4K"
      },
      "source": [
        "def interpolate_2d(f, q_x, q_y, e_x, e_y):\n",
        "  n_q_x_points = q_x.shape[0]\n",
        "  n_q_y_points = q_y.shape[0]\n",
        "  n_e_x_points = e_x.shape[0]\n",
        "  n_e_y_points = e_y.shape[0]\n",
        "\n",
        "  f_e = np.zeros((n_e_x_points, n_e_y_points), dtype=np.float64)\n",
        "\n",
        "  basis = build_lagrangian_basis_2d(q_x, q_y, e_x, e_y)\n",
        "\n",
        "  f_q = evaluate_f(q_x, q_y)\n",
        "\n",
        "  basis_reshaped = basis.reshape(\n",
        "      (n_e_x_points* n_e_y_points, n_q_x_points * n_q_y_points)\n",
        "      )\n",
        "\n",
        "  f_q_reshaped = f_q.reshape((n_q_x_points * n_q_y_points,))\n",
        "\n",
        "  f_e = basis_reshaped @ f_q_reshaped\n",
        "  return f_e.reshape((n_e_x_points, n_e_y_points))"
      ],
      "execution_count": 214,
      "outputs": []
    },
    {
      "cell_type": "code",
      "metadata": {
        "id": "xq4ah92d34FK",
        "outputId": "c9a04cd6-bb72-4d58-95fd-75ee268ab2e0",
        "colab": {
          "base_uri": "https://localhost:8080/"
        }
      },
      "source": [
        "f_interpolated = interpolate_2d(f, q_x, q_y, e_x, e_y)\n",
        "f_evaluated = evaluate_f(e_x, e_y)\n",
        "np.max(np.abs(f_interpolated - f_evaluated))"
      ],
      "execution_count": 215,
      "outputs": [
        {
          "output_type": "execute_result",
          "data": {
            "text/plain": [
              "7.224786566917274e-05"
            ]
          },
          "metadata": {
            "tags": []
          },
          "execution_count": 215
        }
      ]
    },
    {
      "cell_type": "code",
      "metadata": {
        "id": "iQC9gMRW36qg",
        "outputId": "e240170a-17f7-4903-9318-106523859981",
        "colab": {
          "base_uri": "https://localhost:8080/"
        }
      },
      "source": [
        "%prun interpolate_2d(f, q_x, q_y, e_x, e_y)"
      ],
      "execution_count": 216,
      "outputs": [
        {
          "output_type": "stream",
          "text": [
            " "
          ],
          "name": "stdout"
        }
      ]
    },
    {
      "cell_type": "code",
      "metadata": {
        "id": "mqysz9OR4c-f",
        "outputId": "c8b2925c-87ec-4c4e-fe6c-a24ba2bc96e9",
        "colab": {
          "base_uri": "https://localhost:8080/"
        }
      },
      "source": [
        "q_x = np.linspace(0, 1, 16)\n",
        "q_y = np.linspace(0, 1, 16)\n",
        "e_x = np.linspace(0, 1, 1025)\n",
        "e_y = np.linspace(0, 1, 1025)\n",
        "\n",
        "f_interpolated = interpolate_2d(f, q_x, q_y, e_x, e_y)\n",
        "f_evaluated = evaluate_f(e_x, e_y)\n",
        "np.max(np.abs(f_interpolated - f_evaluated))"
      ],
      "execution_count": 223,
      "outputs": [
        {
          "output_type": "execute_result",
          "data": {
            "text/plain": [
              "9.266187817047467e-10"
            ]
          },
          "metadata": {
            "tags": []
          },
          "execution_count": 223
        }
      ]
    },
    {
      "cell_type": "code",
      "metadata": {
        "id": "NTEb4qoc42cN"
      },
      "source": [
        ""
      ],
      "execution_count": null,
      "outputs": []
    }
  ]
}