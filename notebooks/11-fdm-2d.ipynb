{
 "cells": [
  {
   "cell_type": "code",
   "execution_count": 1,
   "metadata": {},
   "outputs": [
    {
     "name": "stdout",
     "output_type": "stream",
     "text": [
      "Populating the interactive namespace from numpy and matplotlib\n"
     ]
    }
   ],
   "source": [
    "%pylab inline"
   ]
  },
  {
   "cell_type": "code",
   "execution_count": 2,
   "metadata": {
    "collapsed": true
   },
   "outputs": [],
   "source": [
    "# Construct the domain\n",
    "n = 40 # n points along x\n",
    "m = 30 # m points along y\n",
    "\n",
    "h = 0.02\n",
    "\n",
    "a = 0.3\n",
    "b = a+(n-1)*h\n",
    "c = 0.5\n",
    "d = c+(m-1)*h\n",
    "\n",
    "phi = linspace(a,b,n)\n",
    "psi = linspace(c,d,m)"
   ]
  },
  {
   "cell_type": "code",
   "execution_count": 3,
   "metadata": {},
   "outputs": [
    {
     "data": {
      "text/plain": [
       "((30, 40), (30, 40))"
      ]
     },
     "execution_count": 3,
     "metadata": {},
     "output_type": "execute_result"
    }
   ],
   "source": [
    "XX, YY = meshgrid(phi, psi)\n",
    "XX.shape, YY.shape"
   ]
  },
  {
   "cell_type": "code",
   "execution_count": 4,
   "metadata": {},
   "outputs": [],
   "source": [
    "# Lets store the XX and YY coordinates in the same X vector, as in the lectures notes\n",
    "# Shape of X = (m, n, 2) = XX.shape + (2,)\n",
    "X = zeros(XX.shape+(2,))\n",
    "X[:,:,0] = XX\n",
    "X[:,:,1] = YY"
   ]
  },
  {
   "cell_type": "code",
   "execution_count": 5,
   "metadata": {},
   "outputs": [
    {
     "data": {
      "text/plain": [
       "<matplotlib.colorbar.Colorbar at 0x7fe6782834e0>"
      ]
     },
     "execution_count": 5,
     "metadata": {},
     "output_type": "execute_result"
    },
    {
     "data": {
      "image/png": "[encoded data removed]",
      "text/plain": [
       "<matplotlib.figure.Figure at 0x7fe698a25518>"
      ]
     },
     "metadata": {},
     "output_type": "display_data"
    },
    {
     "data": {
      "image/png": "[encoded data removed]",
      "text/plain": [
       "<matplotlib.figure.Figure at 0x7fe69876c9e8>"
      ]
     },
     "metadata": {},
     "output_type": "display_data"
    }
   ],
   "source": [
    "imshow(XX, origin='lower')\n",
    "colorbar()\n",
    "figure()\n",
    "imshow(YY, origin='lower')\n",
    "colorbar()"
   ]
  },
  {
   "cell_type": "code",
   "execution_count": 6,
   "metadata": {},
   "outputs": [],
   "source": [
    "# Define an exact solution (with the correct boundary conditions!), \n",
    "# and then compute its laplacian to get a test rhs\n",
    "def exact(x,y):\n",
    "    return sin((x-a)*pi/(b-a))*sin((y-c)*pi/(d-c))\n",
    "\n",
    "def myfun(x,y):\n",
    "    return sin((x-a)*pi/(b-a))*sin((y-c)*pi/(d-c))*pi**2*(1/(b-a)**2 + 1/(d-c)**2)\n",
    "\n",
    "# same as myfun(XX,YY)\n",
    "f = myfun(X[:,:,0], X[:,:,1])\n",
    "u_exact = exact(X[:,:,0], X[:,:,1])"
   ]
  },
  {
   "cell_type": "code",
   "execution_count": 7,
   "metadata": {},
   "outputs": [
    {
     "data": {
      "text/plain": [
       "<matplotlib.image.AxesImage at 0x7fe6c850d4e0>"
      ]
     },
     "execution_count": 7,
     "metadata": {},
     "output_type": "execute_result"
    },
    {
     "data": {
      "image/png": "[encoded data removed]",
      "text/plain": [
       "<matplotlib.figure.Figure at 0x7fe678248940>"
      ]
     },
     "metadata": {},
     "output_type": "display_data"
    }
   ],
   "source": [
    "matshow(u_exact, origin='lower')"
   ]
  },
  {
   "cell_type": "code",
   "execution_count": 8,
   "metadata": {},
   "outputs": [],
   "source": [
    "# Assemble the finite difference matrix in 2D.\n",
    "A = zeros((m,n, m,n))\n",
    "\n",
    "for alpha in range(1,m-1):\n",
    "    for i in range(1,n-1):\n",
    "        A[alpha,i, alpha, i] = 4/h**2\n",
    "        A[alpha,i, alpha-1, i] = -1/h**2\n",
    "        A[alpha,i, alpha+1, i] = -1/h**2\n",
    "        A[alpha,i, alpha, i-1] = -1/h**2\n",
    "        A[alpha,i, alpha, i+1] = -1/h**2\n",
    "\n",
    "# Boundary conditions!\n",
    "A[0,:,0,:] = eye((n))\n",
    "A[-1,:,-1,:] = eye((n))\n",
    "A[:,0,:,0] = eye((m))\n",
    "A[:,-1,:,-1] = eye((m))\n",
    "\n",
    "# Same is true for rhs:\n",
    "f[0,:] = 0\n",
    "f[-1,:] = 0\n",
    "f[:,0] = 0\n",
    "f[:,-1] = 0\n",
    "\n",
    "# Reshape both A and f\n",
    "Atilde = A.reshape((m*n, m*n))\n",
    "ftilde = f.reshape((m*n,))"
   ]
  },
  {
   "cell_type": "code",
   "execution_count": 9,
   "metadata": {},
   "outputs": [],
   "source": [
    "# Unwrapped version of the solution\n",
    "Utilde = linalg.solve(Atilde,ftilde)\n",
    "u = Utilde.reshape((m,n))"
   ]
  },
  {
   "cell_type": "code",
   "execution_count": 10,
   "metadata": {},
   "outputs": [
    {
     "data": {
      "text/plain": [
       "<matplotlib.colorbar.Colorbar at 0x7fe6b8b229b0>"
      ]
     },
     "execution_count": 10,
     "metadata": {},
     "output_type": "execute_result"
    },
    {
     "data": {
      "image/png": "[encoded data removed]",
      "text/plain": [
       "<matplotlib.figure.Figure at 0x7fe6a8889518>"
      ]
     },
     "metadata": {},
     "output_type": "display_data"
    },
    {
     "data": {
      "image/png": "[encoded data removed]",
      "text/plain": [
       "<matplotlib.figure.Figure at 0x7fe6a88a9828>"
      ]
     },
     "metadata": {},
     "output_type": "display_data"
    }
   ],
   "source": [
    "matshow(u, origin='lower')\n",
    "colorbar()\n",
    "figure()\n",
    "imshow(u_exact, origin='lower')\n",
    "colorbar()"
   ]
  },
  {
   "cell_type": "code",
   "execution_count": 11,
   "metadata": {},
   "outputs": [
    {
     "name": "stdout",
     "output_type": "stream",
     "text": [
      "Linfty error:  0.000820803944908\n"
     ]
    }
   ],
   "source": [
    "error = np.max(abs(u-u_exact))\n",
    "print(\"Linfty error: \", error)"
   ]
  }
 ],
 "metadata": {
  "kernelspec": {
   "display_name": "Python 3",
   "language": "python",
   "name": "python3"
  },
  "language_info": {
   "codemirror_mode": {
    "name": "ipython",
    "version": 3
   },
   "file_extension": ".py",
   "mimetype": "text/x-python",
   "name": "python",
   "nbconvert_exporter": "python",
   "pygments_lexer": "ipython3",
   "version": "3.6.7"
  }
 },
 "nbformat": 4,
 "nbformat_minor": 2
}
