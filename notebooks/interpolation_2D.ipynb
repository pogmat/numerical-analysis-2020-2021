{
 "cells": [
  {
   "cell_type": "code",
   "execution_count": 61,
   "metadata": {},
   "outputs": [],
   "source": [
    "import numpy as np\n",
    "import matplotlib.pyplot as plt"
   ]
  },
  {
   "cell_type": "code",
   "execution_count": 62,
   "metadata": {},
   "outputs": [],
   "source": [
    "def build_lagrangian_basis(q, e):\n",
    "    n_q_points = q.shape[0]\n",
    "    n_e_points = e.shape[0]\n",
    "    \n",
    "    basis = np.ones((n_e_points, n_q_points), dtype=np.float64)\n",
    "    \n",
    "    #for i in range(n_e_points):\n",
    "    #    for j in range(n_q_points):\n",
    "    #        for k in range(n_q_points):\n",
    "    #            if k == j:\n",
    "    #                continue\n",
    "    #            basis[i, j] *= (e[i] - q[k]) / (q[j] - q[k])\n",
    "    \n",
    "    #for i in range(n_e_points):\n",
    "    #    for j in range(n_q_points):\n",
    "    #        basis[]\n",
    "    \n",
    "    num = e.reshape((n_e_points, 1)) - q\n",
    "    den = q.reshape((n_q_points, 1)) - q - np.identity(n_q_points)\n",
    "    ratio = num.reshape((n_e_points, 1, n_q_points)) / den.reshape((1, n_q_points, n_q_points))\n",
    "    ratio[:,np.arange(n_q_points),np.arange(n_q_points)] = 1\n",
    "    basis = np.prod(ratio, axis=2)\n",
    "    \n",
    "    \n",
    "  \n",
    "    return basis"
   ]
  },
  {
   "cell_type": "code",
   "execution_count": 63,
   "metadata": {},
   "outputs": [],
   "source": [
    "e = np.linspace(0, 1, 100)\n",
    "q = np.linspace(0, 1,   4)"
   ]
  },
  {
   "cell_type": "code",
   "execution_count": 64,
   "metadata": {},
   "outputs": [],
   "source": [
    "def interpolate(f, q, e):\n",
    "    n_q_points = q.shape[0]\n",
    "    n_e_points = e.shape[0]\n",
    "    \n",
    "    basis = build_lagrangian_basis(q, e)\n",
    "    \n",
    "    f_e = np.zeros((n_e_points, ), dtype=np.float64)\n",
    "    \n",
    "    for i in range(n_e_points):\n",
    "        for j in range(n_q_points):\n",
    "            f_e[i] += basis[i, j] * f(q[j])\n",
    "            \n",
    "    return f_e"
   ]
  },
  {
   "cell_type": "code",
   "execution_count": 66,
   "metadata": {},
   "outputs": [
    {
     "data": {
      "image/png": "[encoded data removed]",
      "text/plain": [
       "<Figure size 432x288 with 1 Axes>"
      ]
     },
     "metadata": {
      "needs_background": "light"
     },
     "output_type": "display_data"
    }
   ],
   "source": [
    "f = lambda x: np.sin(2 * np.pi * x)\n",
    "f_interp = interpolate(f, q, e)\n",
    "_ = plt.plot(e, f_interp)\n",
    "_ = plt.plot(e, f(e), color=\"red\")"
   ]
  },
  {
   "cell_type": "code",
   "execution_count": 67,
   "metadata": {},
   "outputs": [],
   "source": [
    "def build_lagrangian_basis_2d(q_x, q_y, e_x, e_y):\n",
    "    n_q_x_points = q_x.shape[0]\n",
    "    n_q_y_points = q_y.shape[0]\n",
    "    n_e_x_points = e_x.shape[0]\n",
    "    n_e_y_points = e_y.shape[0]\n",
    "    \n",
    "    basis_shape = (n_e_x_points, n_e_y_points, n_q_x_points, n_q_y_points)\n",
    "    basis = np.zeros(basis_shape, dtype=np.float64)\n",
    "    \n",
    "    bx = build_lagrangian_basis(q_x, e_x)\n",
    "    by = build_lagrangian_basis(q_y, e_y)\n",
    "    \n",
    "    #for i in range(n_e_x_points):\n",
    "    #    for j in range(n_e_y_points):\n",
    "    #        for k in range(n_q_x_points):\n",
    "    #            for l in range(n_q_y_points):\n",
    "    #                basis[i, j, k, l] = bx[i, k] * by[j, l]\n",
    "    \n",
    "    #bx_r = bx.reshape((n_e_x_points, 1, n_q_x_points, 1))\n",
    "    #by_r = by.reshape((1, n_e_y_points, 1, n_q_y_points))\n",
    "    \n",
    "    #basis = bx_r * by_r\n",
    "    \n",
    "    basis = np.tensordot(bx, by, axes=0).transpose((0,2,1,3))\n",
    "    \n",
    "    return basis"
   ]
  },
  {
   "cell_type": "code",
   "execution_count": 68,
   "metadata": {},
   "outputs": [],
   "source": [
    "q_x = np.linspace(0, 1, 10)\n",
    "q_y = np.linspace(0, 1, 11)\n",
    "e_x = np.linspace(0, 1, 25)\n",
    "e_y = np.linspace(0, 1, 27)"
   ]
  },
  {
   "cell_type": "code",
   "execution_count": 69,
   "metadata": {},
   "outputs": [],
   "source": [
    "def interpolate_2d(f, q_x, q_y, e_x, e_y):\n",
    "    n_q_x_points = q_x.shape[0]\n",
    "    n_q_y_points = q_y.shape[0]\n",
    "    n_e_x_points = e_x.shape[0]\n",
    "    n_e_y_points = e_y.shape[0]\n",
    "    \n",
    "    f_e = np.zeros((n_e_x_points, n_e_y_points), dtype=np.float64)\n",
    "    X, Y = np.meshgrid(q_x, q_y)\n",
    "    f_q = f(X.T, Y.T)\n",
    "    \n",
    "    basis = build_lagrangian_basis_2d(q_x, q_y, e_x, e_y)\n",
    "      \n",
    "    #for i in range(n_e_x_points):\n",
    "    #    for j in range(n_e_y_points):\n",
    "    #        for k in range(n_q_x_points):\n",
    "    #            for l in range(n_q_y_points):\n",
    "    #                f_e[i, j] += basis[i, j, k, l] * f_q[k, l]\n",
    "    \n",
    "    f_e = np.tensordot(basis, f_q, axes=([2,3],[0,1]))\n",
    "    \n",
    "    return f_e"
   ]
  },
  {
   "cell_type": "code",
   "execution_count": 70,
   "metadata": {},
   "outputs": [],
   "source": [
    "f_2d = lambda x, y : np.sin(2 * np.pi * x) + y ** 2"
   ]
  },
  {
   "cell_type": "code",
   "execution_count": 71,
   "metadata": {},
   "outputs": [
    {
     "data": {
      "text/plain": [
       "6.787240547723172e-05"
      ]
     },
     "execution_count": 71,
     "metadata": {},
     "output_type": "execute_result"
    }
   ],
   "source": [
    "f_2d_interp = interpolate_2d(f_2d, q_x, q_y, e_x, e_y)\n",
    "# Check the errors on a grid\n",
    "X, Y = np.meshgrid(e_x, e_y)\n",
    "i, j = np.meshgrid(range(e_x.shape[0]), range(e_y.shape[0]))\n",
    "np.max(np.abs(f_2d(X,Y) - f_2d_interp[i,j]))"
   ]
  },
  {
   "cell_type": "code",
   "execution_count": null,
   "metadata": {},
   "outputs": [],
   "source": []
  }
 ],
 "metadata": {
  "kernelspec": {
   "display_name": "Python 3",
   "language": "python",
   "name": "python3"
  },
  "language_info": {
   "codemirror_mode": {
    "name": "ipython",
    "version": 3
   },
   "file_extension": ".py",
   "mimetype": "text/x-python",
   "name": "python",
   "nbconvert_exporter": "python",
   "pygments_lexer": "ipython3",
   "version": "3.8.6"
  }
 },
 "nbformat": 4,
 "nbformat_minor": 4
}
