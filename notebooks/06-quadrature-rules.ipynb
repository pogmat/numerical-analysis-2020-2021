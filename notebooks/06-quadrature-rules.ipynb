{
  "nbformat": 4,
  "nbformat_minor": 0,
  "metadata": {
    "colab": {
      "name": "quadrature_rules.ipynb",
      "provenance": [],
      "authorship_tag": "ABX9TyN4hFGL96PiPEzmcwyAgh/2"
    },
    "kernelspec": {
      "name": "python3",
      "display_name": "Python 3"
    }
  },
  "cells": [
    {
      "cell_type": "code",
      "metadata": {
        "id": "Y5ntpB9jmqJs"
      },
      "source": [
        "import numpy as np\n",
        "import matplotlib.pyplot as plt\n",
        "import sympy\n",
        "import sympy.abc"
      ],
      "execution_count": 3,
      "outputs": []
    },
    {
      "cell_type": "code",
      "metadata": {
        "colab": {
          "base_uri": "https://localhost:8080/"
        },
        "id": "-FV-CiLSt--X",
        "outputId": "c6dc7e3e-6200-40af-e034-7c7befa488a2"
      },
      "source": [
        "x = sympy.abc.x\n",
        "p = (x**8 - 1)\n",
        "p"
      ],
      "execution_count": 5,
      "outputs": [
        {
          "output_type": "execute_result",
          "data": {
            "text/plain": [
              "x**8 - 1"
            ]
          },
          "metadata": {
            "tags": []
          },
          "execution_count": 5
        }
      ]
    },
    {
      "cell_type": "code",
      "metadata": {
        "colab": {
          "base_uri": "https://localhost:8080/"
        },
        "id": "4VLHVdJauHX7",
        "outputId": "16d7436c-bff0-4492-a014-7ddfa24662a7"
      },
      "source": [
        "p.factor()"
      ],
      "execution_count": 6,
      "outputs": [
        {
          "output_type": "execute_result",
          "data": {
            "text/plain": [
              "(x - 1)*(x + 1)*(x**2 + 1)*(x**4 + 1)"
            ]
          },
          "metadata": {
            "tags": []
          },
          "execution_count": 6
        }
      ]
    },
    {
      "cell_type": "code",
      "metadata": {
        "colab": {
          "base_uri": "https://localhost:8080/"
        },
        "id": "FvhMwUMTuWFQ",
        "outputId": "623133b9-f57a-4a3c-e938-4fafeb5c0c83"
      },
      "source": [
        "(p ** 2).expand()"
      ],
      "execution_count": 8,
      "outputs": [
        {
          "output_type": "execute_result",
          "data": {
            "text/plain": [
              "x**16 - 2*x**8 + 1"
            ]
          },
          "metadata": {
            "tags": []
          },
          "execution_count": 8
        }
      ]
    },
    {
      "cell_type": "code",
      "metadata": {
        "colab": {
          "base_uri": "https://localhost:8080/"
        },
        "id": "g1YIAfAtuYGs",
        "outputId": "5ae37df5-1fd7-443a-bbd1-1a8ec5ce9ac9"
      },
      "source": [
        "sympy.integrate(p, x)"
      ],
      "execution_count": 9,
      "outputs": [
        {
          "output_type": "execute_result",
          "data": {
            "text/plain": [
              "x**9/9 - x"
            ]
          },
          "metadata": {
            "tags": []
          },
          "execution_count": 9
        }
      ]
    },
    {
      "cell_type": "code",
      "metadata": {
        "colab": {
          "base_uri": "https://localhost:8080/"
        },
        "id": "y5K4jRJxudwJ",
        "outputId": "583dd98f-3416-48c6-e8af-b891353197a1"
      },
      "source": [
        "sympy.integrate(p, (x, 0 , 1))"
      ],
      "execution_count": 10,
      "outputs": [
        {
          "output_type": "execute_result",
          "data": {
            "text/plain": [
              "-8/9"
            ]
          },
          "metadata": {
            "tags": []
          },
          "execution_count": 10
        }
      ]
    },
    {
      "cell_type": "code",
      "metadata": {
        "id": "sSPsq8YHuh0S"
      },
      "source": [
        "trapez_nodes = np.array([0, 1], dtype=np.float64)\n",
        "trapez_weights = np.array([1/ 2., 1/2.], dtype=np.float64)\n"
      ],
      "execution_count": 12,
      "outputs": []
    },
    {
      "cell_type": "code",
      "metadata": {
        "id": "GJTEQ0R4u5av"
      },
      "source": [
        "trapez_rule = (trapez_nodes, trapez_weights)"
      ],
      "execution_count": 13,
      "outputs": []
    },
    {
      "cell_type": "code",
      "metadata": {
        "colab": {
          "base_uri": "https://localhost:8080/"
        },
        "id": "J7gr8DFrvARo",
        "outputId": "c8acd694-7739-4ca1-d6e1-288936a48795"
      },
      "source": [
        "trapez_rule[1]"
      ],
      "execution_count": 15,
      "outputs": [
        {
          "output_type": "execute_result",
          "data": {
            "text/plain": [
              "array([0.5, 0.5])"
            ]
          },
          "metadata": {
            "tags": []
          },
          "execution_count": 15
        }
      ]
    },
    {
      "cell_type": "code",
      "metadata": {
        "id": "uC6VRlhtvCjj"
      },
      "source": [
        "from collections import namedtuple"
      ],
      "execution_count": 17,
      "outputs": []
    },
    {
      "cell_type": "code",
      "metadata": {
        "id": "C4AlqHbpvNQf"
      },
      "source": [
        "QRule = namedtuple(\"QRule\", [\"nodes\", \"weights\", \"interval\"])"
      ],
      "execution_count": 18,
      "outputs": []
    },
    {
      "cell_type": "code",
      "metadata": {
        "id": "JqaTmwwlvsiS"
      },
      "source": [
        "trapez_rule = QRule(trapez_nodes, trapez_weights, (0, 1))"
      ],
      "execution_count": 19,
      "outputs": []
    },
    {
      "cell_type": "code",
      "metadata": {
        "colab": {
          "base_uri": "https://localhost:8080/"
        },
        "id": "3hllkd5gv1wr",
        "outputId": "dacd09fe-9732-44dc-813f-fea4e9899649"
      },
      "source": [
        "trapez_rule"
      ],
      "execution_count": 20,
      "outputs": [
        {
          "output_type": "execute_result",
          "data": {
            "text/plain": [
              "QRule(nodes=array([0., 1.]), weights=array([0.5, 0.5]), interval=(0, 1))"
            ]
          },
          "metadata": {
            "tags": []
          },
          "execution_count": 20
        }
      ]
    },
    {
      "cell_type": "code",
      "metadata": {
        "colab": {
          "base_uri": "https://localhost:8080/"
        },
        "id": "8z9_eqjzv2zY",
        "outputId": "af7e99ff-6291-461f-b663-75f02fcdc375"
      },
      "source": [
        "trapez_rule.weights"
      ],
      "execution_count": 21,
      "outputs": [
        {
          "output_type": "execute_result",
          "data": {
            "text/plain": [
              "array([0.5, 0.5])"
            ]
          },
          "metadata": {
            "tags": []
          },
          "execution_count": 21
        }
      ]
    },
    {
      "cell_type": "code",
      "metadata": {
        "colab": {
          "base_uri": "https://localhost:8080/"
        },
        "id": "oVyDEMVOv7oJ",
        "outputId": "cbd20e18-98f2-49cc-cbdf-02d910b54d85"
      },
      "source": [
        "trapez_rule[1]"
      ],
      "execution_count": 22,
      "outputs": [
        {
          "output_type": "execute_result",
          "data": {
            "text/plain": [
              "array([0.5, 0.5])"
            ]
          },
          "metadata": {
            "tags": []
          },
          "execution_count": 22
        }
      ]
    },
    {
      "cell_type": "code",
      "metadata": {
        "colab": {
          "base_uri": "https://localhost:8080/"
        },
        "id": "npQ1_Mkjv9tE",
        "outputId": "85ca14b7-0d9a-48c5-fe76-2d6b8f6e7661"
      },
      "source": [
        "for i in trapez_rule:\n",
        "  print(i)"
      ],
      "execution_count": 23,
      "outputs": [
        {
          "output_type": "stream",
          "text": [
            "[0. 1.]\n",
            "[0.5 0.5]\n",
            "(0, 1)\n"
          ],
          "name": "stdout"
        }
      ]
    },
    {
      "cell_type": "code",
      "metadata": {
        "id": "4bmS_GHxwWWj"
      },
      "source": [
        "class whatever:\n",
        "  def __init__(self):\n",
        "    self.a = 19\n",
        "  \n",
        "  def __getattr__(self, atrb):\n",
        "    print(atrb)\n",
        "    return 42"
      ],
      "execution_count": 33,
      "outputs": []
    },
    {
      "cell_type": "code",
      "metadata": {
        "id": "-S30JUaow52G"
      },
      "source": [
        "my_object = whatever()"
      ],
      "execution_count": 34,
      "outputs": []
    },
    {
      "cell_type": "code",
      "metadata": {
        "colab": {
          "base_uri": "https://localhost:8080/"
        },
        "id": "e8ziPv7AxCBO",
        "outputId": "bb24dacc-b877-4332-f80a-a8b9f5f42707"
      },
      "source": [
        "my_object.__dict__"
      ],
      "execution_count": 27,
      "outputs": [
        {
          "output_type": "execute_result",
          "data": {
            "text/plain": [
              "{'a': 19}"
            ]
          },
          "metadata": {
            "tags": []
          },
          "execution_count": 27
        }
      ]
    },
    {
      "cell_type": "code",
      "metadata": {
        "colab": {
          "base_uri": "https://localhost:8080/"
        },
        "id": "S5Ueff9DxDdz",
        "outputId": "695f5e53-f44a-4d41-ab3e-94f17f7d96ce"
      },
      "source": [
        "my_object.a == my_object.__dict__[\"a\"]"
      ],
      "execution_count": 30,
      "outputs": [
        {
          "output_type": "execute_result",
          "data": {
            "text/plain": [
              "True"
            ]
          },
          "metadata": {
            "tags": []
          },
          "execution_count": 30
        }
      ]
    },
    {
      "cell_type": "code",
      "metadata": {
        "colab": {
          "base_uri": "https://localhost:8080/"
        },
        "id": "O87GxKZBxNPw",
        "outputId": "f37333d3-e9d0-4eb0-f6ae-88dd5401f486"
      },
      "source": [
        "my_object.something"
      ],
      "execution_count": 35,
      "outputs": [
        {
          "output_type": "stream",
          "text": [
            "something\n"
          ],
          "name": "stdout"
        },
        {
          "output_type": "execute_result",
          "data": {
            "text/plain": [
              "42"
            ]
          },
          "metadata": {
            "tags": []
          },
          "execution_count": 35
        }
      ]
    },
    {
      "cell_type": "code",
      "metadata": {
        "id": "QdyGSptGxfS3"
      },
      "source": [
        "def integrate(f, q_rule):\n",
        "  return np.sum(q_rule.weights * f(q_rule.nodes))"
      ],
      "execution_count": 36,
      "outputs": []
    },
    {
      "cell_type": "code",
      "metadata": {
        "colab": {
          "base_uri": "https://localhost:8080/"
        },
        "id": "xC3UCVfuyHyr",
        "outputId": "d4c75573-b3db-40c5-a154-33afb18899f0"
      },
      "source": [
        "- np.cos(1) + np.cos(0) - integrate(np.sin, trapez_rule)"
      ],
      "execution_count": 39,
      "outputs": [
        {
          "output_type": "execute_result",
          "data": {
            "text/plain": [
              "0.03896220172791198"
            ]
          },
          "metadata": {
            "tags": []
          },
          "execution_count": 39
        }
      ]
    },
    {
      "cell_type": "code",
      "metadata": {
        "colab": {
          "base_uri": "https://localhost:8080/",
          "height": 137
        },
        "id": "qZPrF2hXyQSc",
        "outputId": "c26be89d-93a2-4ff1-dfcc-450dc7a18c5a"
      },
      "source": [
        "def generate_equispaced_nodes(n):\n",
        "  return np.linspace(0, 1, n + 1, endpoint=False)[1:\n",
        "                                                  \n",
        "leggauss"
      ],
      "execution_count": 106,
      "outputs": [
        {
          "output_type": "error",
          "ename": "SyntaxError",
          "evalue": "ignored",
          "traceback": [
            "\u001b[0;36m  File \u001b[0;32m\"<ipython-input-106-62de5ddd1a12>\"\u001b[0;36m, line \u001b[0;32m4\u001b[0m\n\u001b[0;31m    leggauss\u001b[0m\n\u001b[0m            ^\u001b[0m\n\u001b[0;31mSyntaxError\u001b[0m\u001b[0;31m:\u001b[0m unexpected EOF while parsing\n"
          ]
        }
      ]
    },
    {
      "cell_type": "code",
      "metadata": {
        "id": "TuzUNJAay0A1"
      },
      "source": [
        "def generate_interpolatory_quadrature_rule(nodes):\n",
        "  n_of_nodes = nodes.shape[0]\n",
        "  if n_of_nodes == 1:\n",
        "    weights = np.array([1.], dtype=np.float64)\n",
        "    return QRule(nodes=nodes, weights=weights, interval=(0, 1))\n",
        "  \n",
        "  weights = np.empty((n_of_nodes,), dtype=np.float64)\n",
        "\n",
        "  x = sympy.abc.x\n",
        "  for i in range(n_of_nodes):\n",
        "    k = 1\n",
        "    for j in range(n_of_nodes):\n",
        "      if i == j:\n",
        "        continue\n",
        "      k *= (x - nodes[j]) / (nodes[i] - nodes[j])\n",
        "    weights[i] = sympy.integrate(k, (x, 0, 1))\n",
        "  \n",
        "  return QRule(nodes=nodes, weights=weights, interval=(0, 1))"
      ],
      "execution_count": 53,
      "outputs": []
    },
    {
      "cell_type": "code",
      "metadata": {
        "colab": {
          "base_uri": "https://localhost:8080/"
        },
        "id": "t-DobiYdy2QJ",
        "outputId": "d3991f42-6d45-4ae7-fe1e-7cd570a8658b"
      },
      "source": [
        "generate_interpolatory_quadrature_rule(trapez_nodes)"
      ],
      "execution_count": 50,
      "outputs": [
        {
          "output_type": "execute_result",
          "data": {
            "text/plain": [
              "QRule(nodes=array([0., 1.]), weights=array([0.5, 0.5]), interval=(0, 1))"
            ]
          },
          "metadata": {
            "tags": []
          },
          "execution_count": 50
        }
      ]
    },
    {
      "cell_type": "code",
      "metadata": {
        "id": "i8xolBXq0fCo"
      },
      "source": [
        "from functools import lru_cache\n",
        "\n",
        "@lru_cache(100)\n",
        "def generate_nc_quadrature_rule(n):\n",
        "  nodes = generate_equispaced_nodes(n)\n",
        "  return generate_interpolatory_quadrature_rule(nodes)"
      ],
      "execution_count": 59,
      "outputs": []
    },
    {
      "cell_type": "code",
      "metadata": {
        "colab": {
          "base_uri": "https://localhost:8080/",
          "height": 283
        },
        "id": "w5tY5Wxj0qWu",
        "outputId": "4ef1ad67-1b30-46ec-d3ef-0c58f6398dc9"
      },
      "source": [
        "errors = []\n",
        "for i in range(1, 14):\n",
        "  q_rule = generate_nc_quadrature_rule(i)\n",
        "  q_result = integrate(np.sin, q_rule)\n",
        "  exact_result = np.cos(0) - np.cos(1)\n",
        "  error = np.abs(exact_result - q_result) / np.abs(exact_result)\n",
        "  errors.append(error)\n",
        "\n",
        "plt.yscale(\"log\")\n",
        "plt.plot(range(1, 14), errors)\n"
      ],
      "execution_count": 66,
      "outputs": [
        {
          "output_type": "execute_result",
          "data": {
            "text/plain": [
              "[<matplotlib.lines.Line2D at 0x7fa360bdd278>]"
            ]
          },
          "metadata": {
            "tags": []
          },
          "execution_count": 66
        },
        {
          "output_type": "display_data",
          "data": {
            "image/png": "[encoded data removed]",
            "text/plain": [
              "<Figure size 432x288 with 1 Axes>"
            ]
          },
          "metadata": {
            "tags": [],
            "needs_background": "light"
          }
        }
      ]
    },
    {
      "cell_type": "code",
      "metadata": {
        "id": "pdX1SutX09RK"
      },
      "source": [
        "def estimate_nc_error(f, n_of_points):\n",
        "  f_numpy = sympy.lambdify(x, f)\n",
        "  exact_result = sympy.integrate(f, (sympy.abc.x, 0, 1))\n",
        "  errors = []\n",
        "  for i in range(1, n_of_points + 1):\n",
        "    q_rule = generate_nc_quadrature_rule(i)\n",
        "    q_result = integrate(f_numpy, q_rule)\n",
        "    error = np.abs(exact_result - q_result) / np.abs(exact_result)\n",
        "    errors.append(error)\n",
        "  return errors\n"
      ],
      "execution_count": 77,
      "outputs": []
    },
    {
      "cell_type": "code",
      "metadata": {
        "colab": {
          "base_uri": "https://localhost:8080/"
        },
        "id": "TB8hmYE-2xe1",
        "outputId": "4de91ee1-ac14-45ce-f9b0-03ed96626b9f"
      },
      "source": [
        "x = sympy.abc.x\n",
        "f = x**2 - x ** 3 + sympy.sin(x)\n",
        "f"
      ],
      "execution_count": 70,
      "outputs": [
        {
          "output_type": "execute_result",
          "data": {
            "text/plain": [
              "-x**3 + x**2 + sin(x)"
            ]
          },
          "metadata": {
            "tags": []
          },
          "execution_count": 70
        }
      ]
    },
    {
      "cell_type": "code",
      "metadata": {
        "colab": {
          "base_uri": "https://localhost:8080/"
        },
        "id": "STTX4ARh2z13",
        "outputId": "8e41fedd-5483-447e-9aa1-ae1237cf88d1"
      },
      "source": [
        "f.integrate(x)"
      ],
      "execution_count": 71,
      "outputs": [
        {
          "output_type": "execute_result",
          "data": {
            "text/plain": [
              "-x**4/4 + x**3/3 - cos(x)"
            ]
          },
          "metadata": {
            "tags": []
          },
          "execution_count": 71
        }
      ]
    },
    {
      "cell_type": "code",
      "metadata": {
        "colab": {
          "base_uri": "https://localhost:8080/",
          "height": 192
        },
        "id": "H3pN6tWn3N7y",
        "outputId": "bed085a9-4890-430b-f26c-b28810ddcc0a"
      },
      "source": [
        "nodes = np.array([0, 0.2, 0.7])\n",
        "f(nodes)"
      ],
      "execution_count": 73,
      "outputs": [
        {
          "output_type": "error",
          "ename": "TypeError",
          "evalue": "ignored",
          "traceback": [
            "\u001b[0;31m---------------------------------------------------------------------------\u001b[0m",
            "\u001b[0;31mTypeError\u001b[0m                                 Traceback (most recent call last)",
            "\u001b[0;32m<ipython-input-73-74facfa37973>\u001b[0m in \u001b[0;36m<module>\u001b[0;34m()\u001b[0m\n\u001b[1;32m      1\u001b[0m \u001b[0mnodes\u001b[0m \u001b[0;34m=\u001b[0m \u001b[0mnp\u001b[0m\u001b[0;34m.\u001b[0m\u001b[0marray\u001b[0m\u001b[0;34m(\u001b[0m\u001b[0;34m[\u001b[0m\u001b[0;36m0\u001b[0m\u001b[0;34m,\u001b[0m \u001b[0;36m0.2\u001b[0m\u001b[0;34m,\u001b[0m \u001b[0;36m0.7\u001b[0m\u001b[0;34m]\u001b[0m\u001b[0;34m)\u001b[0m\u001b[0;34m\u001b[0m\u001b[0;34m\u001b[0m\u001b[0m\n\u001b[0;32m----> 2\u001b[0;31m \u001b[0mf\u001b[0m\u001b[0;34m(\u001b[0m\u001b[0mnodes\u001b[0m\u001b[0;34m)\u001b[0m\u001b[0;34m\u001b[0m\u001b[0;34m\u001b[0m\u001b[0m\n\u001b[0m",
            "\u001b[0;31mTypeError\u001b[0m: 'Add' object is not callable"
          ]
        }
      ]
    },
    {
      "cell_type": "code",
      "metadata": {
        "id": "r9LV6gvd3UVo"
      },
      "source": [
        "f_numpy = sympy.lambdify(x, f)"
      ],
      "execution_count": 75,
      "outputs": []
    },
    {
      "cell_type": "code",
      "metadata": {
        "colab": {
          "base_uri": "https://localhost:8080/"
        },
        "id": "4hLsfNi33b9p",
        "outputId": "0c1c59fb-0c3f-4844-f499-fe9f8fa9fbee"
      },
      "source": [
        "f_numpy(nodes)"
      ],
      "execution_count": 76,
      "outputs": [
        {
          "output_type": "execute_result",
          "data": {
            "text/plain": [
              "array([0.        , 0.23066933, 0.79121769])"
            ]
          },
          "metadata": {
            "tags": []
          },
          "execution_count": 76
        }
      ]
    },
    {
      "cell_type": "code",
      "metadata": {
        "id": "OTkoag603gcB"
      },
      "source": [
        "errors = estimate_nc_error(sympy.sin(x), 14)"
      ],
      "execution_count": 78,
      "outputs": []
    },
    {
      "cell_type": "code",
      "metadata": {
        "colab": {
          "base_uri": "https://localhost:8080/",
          "height": 283
        },
        "id": "8MQ_Zpto3_VB",
        "outputId": "dbcc330c-31d2-4fce-c114-1443e6b0f5ac"
      },
      "source": [
        "plt.yscale(\"log\")\n",
        "plt.plot(range(1, 15), errors)"
      ],
      "execution_count": 81,
      "outputs": [
        {
          "output_type": "execute_result",
          "data": {
            "text/plain": [
              "[<matplotlib.lines.Line2D at 0x7fa3544f67f0>]"
            ]
          },
          "metadata": {
            "tags": []
          },
          "execution_count": 81
        },
        {
          "output_type": "display_data",
          "data": {
            "image/png": "[encoded data removed]",
            "text/plain": [
              "<Figure size 432x288 with 1 Axes>"
            ]
          },
          "metadata": {
            "tags": [],
            "needs_background": "light"
          }
        }
      ]
    },
    {
      "cell_type": "code",
      "metadata": {
        "colab": {
          "base_uri": "https://localhost:8080/",
          "height": 283
        },
        "id": "0-LmhJFw4Bw1",
        "outputId": "a073635d-40a5-455a-e5d6-f6b1187c271e"
      },
      "source": [
        "errors = estimate_nc_error(x ** (5 / 2), 14)\n",
        "plt.yscale(\"log\")\n",
        "plt.plot(range(1, 15), errors)"
      ],
      "execution_count": 82,
      "outputs": [
        {
          "output_type": "execute_result",
          "data": {
            "text/plain": [
              "[<matplotlib.lines.Line2D at 0x7fa354e8d3c8>]"
            ]
          },
          "metadata": {
            "tags": []
          },
          "execution_count": 82
        },
        {
          "output_type": "display_data",
          "data": {
            "image/png": "[encoded data removed]",
            "text/plain": [
              "<Figure size 432x288 with 1 Axes>"
            ]
          },
          "metadata": {
            "tags": [],
            "needs_background": "light"
          }
        }
      ]
    },
    {
      "cell_type": "code",
      "metadata": {
        "id": "56MEfG704Q_t"
      },
      "source": [
        "def scale_quadrature_rule(q_rule, a, b):\n",
        "  \"\"\"\n",
        "  Take a q_rule defined on [0, 1] and move it on [a, b]\n",
        "  \"\"\"\n",
        "  i_length = b - a\n",
        "  new_nodes = a + i_length * q_rule.nodes\n",
        "  new_weights = q_rule.weights * i_length\n",
        "\n",
        "  return QRule(new_nodes, new_weights, (a, b))\n"
      ],
      "execution_count": 84,
      "outputs": []
    },
    {
      "cell_type": "code",
      "metadata": {
        "id": "RyWw5N0k5g5K"
      },
      "source": [
        "def estimate_nc_error(f, n_of_points, a=0, b=1):\n",
        "  f_numpy = sympy.lambdify(x, f)\n",
        "  exact_result = sympy.integrate(f, (sympy.abc.x, a, b))\n",
        "  errors = []\n",
        "  for i in range(1, n_of_points + 1):\n",
        "    q_rule = generate_nc_quadrature_rule(i)\n",
        "    if a != 0 or b != 1:\n",
        "      q_rule = scale_quadrature_rule(q_rule, a, b)\n",
        "    q_result = integrate(f_numpy, q_rule)\n",
        "    error = np.abs(exact_result - q_result) / np.abs(exact_result)\n",
        "    errors.append(error)\n",
        "  return errors"
      ],
      "execution_count": 85,
      "outputs": []
    },
    {
      "cell_type": "code",
      "metadata": {
        "colab": {
          "base_uri": "https://localhost:8080/",
          "height": 289
        },
        "id": "lGPiRP-Q56O6",
        "outputId": "32fc49ec-9846-4471-f2f1-494e967c1efb"
      },
      "source": [
        "errors = estimate_nc_error(sympy.cos(x), 14, -5, 5)\n",
        "plt.yscale(\"log\")\n",
        "plt.plot(range(1, 15), errors)"
      ],
      "execution_count": 88,
      "outputs": [
        {
          "output_type": "execute_result",
          "data": {
            "text/plain": [
              "[<matplotlib.lines.Line2D at 0x7fa354197748>]"
            ]
          },
          "metadata": {
            "tags": []
          },
          "execution_count": 88
        },
        {
          "output_type": "display_data",
          "data": {
            "image/png": "[encoded data removed]",
            "text/plain": [
              "<Figure size 432x288 with 1 Axes>"
            ]
          },
          "metadata": {
            "tags": [],
            "needs_background": "light"
          }
        }
      ]
    },
    {
      "cell_type": "code",
      "metadata": {
        "colab": {
          "base_uri": "https://localhost:8080/",
          "height": 283
        },
        "id": "R9PsBi3o6CU4",
        "outputId": "1ec3def3-93e5-4aac-ff32-1d8a73205d76"
      },
      "source": [
        "errors = estimate_nc_error(1 / (1 + x**2), 14, -5, 5)\n",
        "plt.yscale(\"log\")\n",
        "plt.plot(range(1, 15), errors)"
      ],
      "execution_count": 89,
      "outputs": [
        {
          "output_type": "execute_result",
          "data": {
            "text/plain": [
              "[<matplotlib.lines.Line2D at 0x7fa354034da0>]"
            ]
          },
          "metadata": {
            "tags": []
          },
          "execution_count": 89
        },
        {
          "output_type": "display_data",
          "data": {
            "image/png": "[encoded data removed]",
            "text/plain": [
              "<Figure size 432x288 with 1 Axes>"
            ]
          },
          "metadata": {
            "tags": [],
            "needs_background": "light"
          }
        }
      ]
    },
    {
      "cell_type": "code",
      "metadata": {
        "id": "O5bcDdGV6Qb_"
      },
      "source": [
        "def generate_composite_formula(base_rule, n_of_cells):\n",
        "  base_n_of_points = base_rule.nodes.shape[0]\n",
        "  n_of_points = base_n_of_points * n_of_cells\n",
        "\n",
        "  new_nodes = np.empty((n_of_points,), dtype=np.float64)\n",
        "  new_weights = np.empty_like(new_nodes)\n",
        "\n",
        "  for i in range(n_of_cells):\n",
        "    a = 1 / float(n_of_cells) * i\n",
        "    b = a + 1 / float(n_of_cells)\n",
        "    cell_q_rule = scale_quadrature_rule(base_rule, a, b)\n",
        "    new_nodes[i * base_n_of_points : (i + 1) * base_n_of_points] = cell_q_rule.nodes\n",
        "    new_weights[i * base_n_of_points : (i + 1) * base_n_of_points] = cell_q_rule.weights\n",
        "\n",
        "  return QRule(new_nodes, new_weights, (0, 1))"
      ],
      "execution_count": 93,
      "outputs": []
    },
    {
      "cell_type": "code",
      "metadata": {
        "colab": {
          "base_uri": "https://localhost:8080/"
        },
        "id": "RU78K9pM7jSI",
        "outputId": "80f72196-48d6-4fe2-c2c3-248bb295c6f0"
      },
      "source": [
        "base_rule = generate_nc_quadrature_rule(1)\n",
        "generate_composite_formula(base_rule, 4)"
      ],
      "execution_count": 94,
      "outputs": [
        {
          "output_type": "execute_result",
          "data": {
            "text/plain": [
              "QRule(nodes=array([0.125, 0.375, 0.625, 0.875]), weights=array([0.25, 0.25, 0.25, 0.25]), interval=(0, 1))"
            ]
          },
          "metadata": {
            "tags": []
          },
          "execution_count": 94
        }
      ]
    },
    {
      "cell_type": "code",
      "metadata": {
        "id": "qby6F4vr7pQo"
      },
      "source": [
        "def estimate_error_against_cells(f, base_formula, n_of_cells, a=0, b=1):\n",
        "  f_numpy = sympy.lambdify(x, f)\n",
        "  exact_result = sympy.integrate(f, (sympy.abc.x, a, b))\n",
        "  errors = []\n",
        "  for i in range(1, n_of_cells + 1):\n",
        "    q_rule = generate_composite_formula(base_formula, i)\n",
        "    if a != 0 or b != 1:\n",
        "      q_rule = scale_quadrature_rule(q_rule, a, b)\n",
        "    q_result = integrate(f_numpy, q_rule)\n",
        "    error = np.abs(exact_result - q_result) / np.abs(exact_result)\n",
        "    errors.append(error)\n",
        "  return errors"
      ],
      "execution_count": 98,
      "outputs": []
    },
    {
      "cell_type": "code",
      "metadata": {
        "colab": {
          "base_uri": "https://localhost:8080/",
          "height": 283
        },
        "id": "CGBZz4v48itT",
        "outputId": "6ee8ec78-a375-4b78-f6f0-481935890f8e"
      },
      "source": [
        "errors = estimate_error_against_cells(\n",
        "    sympy.sin(x),\n",
        "    generate_nc_quadrature_rule(2),\n",
        "    14)\n",
        "plt.yscale(\"log\")\n",
        "plt.plot(range(1, 15), errors)"
      ],
      "execution_count": 100,
      "outputs": [
        {
          "output_type": "execute_result",
          "data": {
            "text/plain": [
              "[<matplotlib.lines.Line2D at 0x7fa353d8b9e8>]"
            ]
          },
          "metadata": {
            "tags": []
          },
          "execution_count": 100
        },
        {
          "output_type": "display_data",
          "data": {
            "image/png": "[encoded data removed]",
            "text/plain": [
              "<Figure size 432x288 with 1 Axes>"
            ]
          },
          "metadata": {
            "tags": [],
            "needs_background": "light"
          }
        }
      ]
    },
    {
      "cell_type": "code",
      "metadata": {
        "colab": {
          "base_uri": "https://localhost:8080/",
          "height": 283
        },
        "id": "zf6E619N8x-R",
        "outputId": "a7d50469-95f1-4243-9d06-757f3cdebe5f"
      },
      "source": [
        "errors = estimate_error_against_cells(\n",
        "    1 / (1 + x**2),\n",
        "    generate_nc_quadrature_rule(2),\n",
        "    14, -5, 5)\n",
        "plt.yscale(\"log\")\n",
        "plt.plot(range(1, 15), errors)"
      ],
      "execution_count": 101,
      "outputs": [
        {
          "output_type": "execute_result",
          "data": {
            "text/plain": [
              "[<matplotlib.lines.Line2D at 0x7fa353f1d1d0>]"
            ]
          },
          "metadata": {
            "tags": []
          },
          "execution_count": 101
        },
        {
          "output_type": "display_data",
          "data": {
            "image/png": "[encoded data removed]",
            "text/plain": [
              "<Figure size 432x288 with 1 Axes>"
            ]
          },
          "metadata": {
            "tags": [],
            "needs_background": "light"
          }
        }
      ]
    },
    {
      "cell_type": "code",
      "metadata": {
        "colab": {
          "base_uri": "https://localhost:8080/",
          "height": 285
        },
        "id": "MJqmPN249SoE",
        "outputId": "81e9f030-35be-44ae-c625-60766534aa7c"
      },
      "source": [
        "K = 50\n",
        "errors1 = estimate_error_against_cells(\n",
        "    sympy.sin(x),\n",
        "    generate_nc_quadrature_rule(1),\n",
        "    K)\n",
        "errors2 = estimate_error_against_cells(\n",
        "    sympy.sin(x),\n",
        "    generate_nc_quadrature_rule(2),\n",
        "    K)\n",
        "errors3 = estimate_error_against_cells(\n",
        "    sympy.sin(x),\n",
        "    generate_nc_quadrature_rule(3),\n",
        "    K)\n",
        "errors4 = estimate_error_against_cells(\n",
        "    sympy.sin(x),\n",
        "    generate_nc_quadrature_rule(4),\n",
        "    K)\n",
        "errors5 = estimate_error_against_cells(\n",
        "    sympy.sin(x),\n",
        "    generate_nc_quadrature_rule(5),\n",
        "    K)\n",
        "plt.yscale(\"log\")\n",
        "plt.plot(range(1, K + 1), errors1, color=\"black\")\n",
        "plt.plot(range(1, K + 1), errors2, color=\"blue\")\n",
        "plt.plot(range(1, K + 1), errors3, color=\"green\")\n",
        "plt.plot(range(1, K + 1), errors4, color=\"gold\")\n",
        "plt.plot(range(1, K + 1), errors5, color=\"red\")"
      ],
      "execution_count": 103,
      "outputs": [
        {
          "output_type": "execute_result",
          "data": {
            "text/plain": [
              "[<matplotlib.lines.Line2D at 0x7fa3538ee7b8>]"
            ]
          },
          "metadata": {
            "tags": []
          },
          "execution_count": 103
        },
        {
          "output_type": "display_data",
          "data": {
            "image/png": "[encoded data removed]",
            "text/plain": [
              "<Figure size 432x288 with 1 Axes>"
            ]
          },
          "metadata": {
            "tags": [],
            "needs_background": "light"
          }
        }
      ]
    },
    {
      "cell_type": "code",
      "metadata": {
        "colab": {
          "base_uri": "https://localhost:8080/",
          "height": 283
        },
        "id": "Zqvqzc9y-Gvm",
        "outputId": "7b5d6f8c-43a7-4234-afe7-689e65ae2af3"
      },
      "source": [
        "K = 100\n",
        "f = 1 / (1 + x**2)\n",
        "errors1 = estimate_error_against_cells(\n",
        "    f,\n",
        "    generate_nc_quadrature_rule(1),\n",
        "    K)\n",
        "errors2 = estimate_error_against_cells(\n",
        "    f,\n",
        "    generate_nc_quadrature_rule(2),\n",
        "    K)\n",
        "errors3 = estimate_error_against_cells(\n",
        "    f,\n",
        "    generate_nc_quadrature_rule(3),\n",
        "    K)\n",
        "errors4 = estimate_error_against_cells(\n",
        "    f,\n",
        "    generate_nc_quadrature_rule(4),\n",
        "    K)\n",
        "errors5 = estimate_error_against_cells(\n",
        "    f,\n",
        "    generate_nc_quadrature_rule(5),\n",
        "    K)\n",
        "plt.yscale(\"log\")\n",
        "plt.plot(range(1, K + 1), errors1, color=\"black\")\n",
        "plt.plot(range(1, K + 1), errors2, color=\"blue\")\n",
        "plt.plot(range(1, K + 1), errors3, color=\"green\")\n",
        "plt.plot(range(1, K + 1), errors4, color=\"gold\")\n",
        "plt.plot(range(1, K + 1), errors5, color=\"red\")"
      ],
      "execution_count": 105,
      "outputs": [
        {
          "output_type": "execute_result",
          "data": {
            "text/plain": [
              "[<matplotlib.lines.Line2D at 0x7fa353c708d0>]"
            ]
          },
          "metadata": {
            "tags": []
          },
          "execution_count": 105
        },
        {
          "output_type": "display_data",
          "data": {
            "image/png": "[encoded data removed]",
            "text/plain": [
              "<Figure size 432x288 with 1 Axes>"
            ]
          },
          "metadata": {
            "tags": [],
            "needs_background": "light"
          }
        }
      ]
    },
    {
      "cell_type": "code",
      "metadata": {
        "id": "fm36ysuS-0Xm"
      },
      "source": [
        ""
      ],
      "execution_count": null,
      "outputs": []
    }
  ]
}