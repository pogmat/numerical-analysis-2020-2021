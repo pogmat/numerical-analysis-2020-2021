{
  "nbformat": 4,
  "nbformat_minor": 0,
  "metadata": {
    "colab": {
      "name": "10-FDM2d.ipynb",
      "provenance": [],
      "authorship_tag": "ABX9TyMtkyXMLiejs24FWvqkGrw2"
    },
    "kernelspec": {
      "name": "python3",
      "display_name": "Python 3"
    }
  },
  "cells": [
    {
      "cell_type": "code",
      "metadata": {
        "id": "mX4kTjWAuiAg"
      },
      "source": [
        "from enum import Enum"
      ],
      "execution_count": 4,
      "outputs": []
    },
    {
      "cell_type": "code",
      "metadata": {
        "id": "TwwjgSLrujgO"
      },
      "source": [
        "class Disc(Enum):\n",
        "  EMPTY = 0\n",
        "  RED = 1\n",
        "  YELLOW = 2"
      ],
      "execution_count": 5,
      "outputs": []
    },
    {
      "cell_type": "code",
      "metadata": {
        "colab": {
          "base_uri": "https://localhost:8080/"
        },
        "id": "M6Jxy9_7Csmt",
        "outputId": "7ed29179-9faa-4f91-cdde-02644fe8accd"
      },
      "source": [
        "Disc.RED"
      ],
      "execution_count": 4,
      "outputs": [
        {
          "output_type": "execute_result",
          "data": {
            "text/plain": [
              "<Disc.RED: 1>"
            ]
          },
          "metadata": {
            "tags": []
          },
          "execution_count": 4
        }
      ]
    },
    {
      "cell_type": "code",
      "metadata": {
        "id": "uBJTdNBKCzJJ"
      },
      "source": [
        "table = []"
      ],
      "execution_count": 5,
      "outputs": []
    },
    {
      "cell_type": "code",
      "metadata": {
        "id": "qIbqLZugC22K"
      },
      "source": [
        "table.append(Disc.RED)"
      ],
      "execution_count": 6,
      "outputs": []
    },
    {
      "cell_type": "code",
      "metadata": {
        "id": "48Sa9x73C4Mp"
      },
      "source": [
        "def divide(a, b):\n",
        "  return a / b"
      ],
      "execution_count": 7,
      "outputs": []
    },
    {
      "cell_type": "code",
      "metadata": {
        "colab": {
          "base_uri": "https://localhost:8080/"
        },
        "id": "--Lyrl5sDL3M",
        "outputId": "add15c69-842a-4f49-e3ab-5d7214c7a1ca"
      },
      "source": [
        "divide(10, 2)"
      ],
      "execution_count": 8,
      "outputs": [
        {
          "output_type": "execute_result",
          "data": {
            "text/plain": [
              "5.0"
            ]
          },
          "metadata": {
            "tags": []
          },
          "execution_count": 8
        }
      ]
    },
    {
      "cell_type": "code",
      "metadata": {
        "colab": {
          "base_uri": "https://localhost:8080/",
          "height": 243
        },
        "id": "mq-prDqzDOgm",
        "outputId": "2511d732-7392-49cc-aa9b-b828e1c68886"
      },
      "source": [
        "divide(10, 0)"
      ],
      "execution_count": 9,
      "outputs": [
        {
          "output_type": "error",
          "ename": "ZeroDivisionError",
          "evalue": "ignored",
          "traceback": [
            "\u001b[0;31m---------------------------------------------------------------------------\u001b[0m",
            "\u001b[0;31mZeroDivisionError\u001b[0m                         Traceback (most recent call last)",
            "\u001b[0;32m<ipython-input-9-ccc290a9b5cb>\u001b[0m in \u001b[0;36m<module>\u001b[0;34m()\u001b[0m\n\u001b[0;32m----> 1\u001b[0;31m \u001b[0mdivide\u001b[0m\u001b[0;34m(\u001b[0m\u001b[0;36m10\u001b[0m\u001b[0;34m,\u001b[0m \u001b[0;36m0\u001b[0m\u001b[0;34m)\u001b[0m\u001b[0;34m\u001b[0m\u001b[0;34m\u001b[0m\u001b[0m\n\u001b[0m",
            "\u001b[0;32m<ipython-input-7-9c0297500084>\u001b[0m in \u001b[0;36mdivide\u001b[0;34m(a, b)\u001b[0m\n\u001b[1;32m      1\u001b[0m \u001b[0;32mdef\u001b[0m \u001b[0mdivide\u001b[0m\u001b[0;34m(\u001b[0m\u001b[0ma\u001b[0m\u001b[0;34m,\u001b[0m \u001b[0mb\u001b[0m\u001b[0;34m)\u001b[0m\u001b[0;34m:\u001b[0m\u001b[0;34m\u001b[0m\u001b[0;34m\u001b[0m\u001b[0m\n\u001b[0;32m----> 2\u001b[0;31m   \u001b[0;32mreturn\u001b[0m \u001b[0ma\u001b[0m \u001b[0;34m/\u001b[0m \u001b[0mb\u001b[0m\u001b[0;34m\u001b[0m\u001b[0;34m\u001b[0m\u001b[0m\n\u001b[0m",
            "\u001b[0;31mZeroDivisionError\u001b[0m: division by zero"
          ]
        }
      ]
    },
    {
      "cell_type": "code",
      "metadata": {
        "id": "MqO-2ruPDQec"
      },
      "source": [
        "import numpy as np\n",
        "\n",
        "def divide(a, b):\n",
        "  try:\n",
        "    result = a / b\n",
        "  except:\n",
        "    print('We are here!')\n",
        "    return np.nan\n",
        "  return result"
      ],
      "execution_count": 14,
      "outputs": []
    },
    {
      "cell_type": "code",
      "metadata": {
        "colab": {
          "base_uri": "https://localhost:8080/"
        },
        "id": "EKNC6jOGDfYE",
        "outputId": "4852152d-1450-4b10-d650-714b32b408f0"
      },
      "source": [
        "divide(10, 2)"
      ],
      "execution_count": 15,
      "outputs": [
        {
          "output_type": "execute_result",
          "data": {
            "text/plain": [
              "5.0"
            ]
          },
          "metadata": {
            "tags": []
          },
          "execution_count": 15
        }
      ]
    },
    {
      "cell_type": "code",
      "metadata": {
        "colab": {
          "base_uri": "https://localhost:8080/"
        },
        "id": "MtnDsUFYDf5v",
        "outputId": "d259f5c3-2751-4161-a00c-f9bf036fc3c7"
      },
      "source": [
        "divide(10, 0)"
      ],
      "execution_count": 16,
      "outputs": [
        {
          "output_type": "stream",
          "text": [
            "We are here!\n"
          ],
          "name": "stdout"
        },
        {
          "output_type": "execute_result",
          "data": {
            "text/plain": [
              "nan"
            ]
          },
          "metadata": {
            "tags": []
          },
          "execution_count": 16
        }
      ]
    },
    {
      "cell_type": "code",
      "metadata": {
        "id": "3202AOKdDjLP"
      },
      "source": [
        "import numpy as np\n",
        "\n",
        "def divide(a, b):\n",
        "  try:\n",
        "    result = a / b\n",
        "  except ZeroDivisionError:\n",
        "    print('We are here!')\n",
        "    return np.nan\n",
        "  return result"
      ],
      "execution_count": 17,
      "outputs": []
    },
    {
      "cell_type": "code",
      "metadata": {
        "colab": {
          "base_uri": "https://localhost:8080/"
        },
        "id": "GjfkfznXDtRO",
        "outputId": "7198fd91-df95-4f1e-87be-df8fc5bc2039"
      },
      "source": [
        "divide(10, 0)"
      ],
      "execution_count": 18,
      "outputs": [
        {
          "output_type": "stream",
          "text": [
            "We are here!\n"
          ],
          "name": "stdout"
        },
        {
          "output_type": "execute_result",
          "data": {
            "text/plain": [
              "nan"
            ]
          },
          "metadata": {
            "tags": []
          },
          "execution_count": 18
        }
      ]
    },
    {
      "cell_type": "code",
      "metadata": {
        "colab": {
          "base_uri": "https://localhost:8080/"
        },
        "id": "T5w_VyelDu1q",
        "outputId": "d3f79e30-510f-4a02-c09c-6e5a6c4357ec"
      },
      "source": [
        "a = np.arange(9).reshape((3, 3))\n",
        "a"
      ],
      "execution_count": 19,
      "outputs": [
        {
          "output_type": "execute_result",
          "data": {
            "text/plain": [
              "array([[0, 1, 2],\n",
              "       [3, 4, 5],\n",
              "       [6, 7, 8]])"
            ]
          },
          "metadata": {
            "tags": []
          },
          "execution_count": 19
        }
      ]
    },
    {
      "cell_type": "code",
      "metadata": {
        "colab": {
          "base_uri": "https://localhost:8080/"
        },
        "id": "EHHLbBWOD_YS",
        "outputId": "77eba1d8-6adc-46f5-9680-5a8f57df4d45"
      },
      "source": [
        "np.diag(a)"
      ],
      "execution_count": 20,
      "outputs": [
        {
          "output_type": "execute_result",
          "data": {
            "text/plain": [
              "array([0, 4, 8])"
            ]
          },
          "metadata": {
            "tags": []
          },
          "execution_count": 20
        }
      ]
    },
    {
      "cell_type": "code",
      "metadata": {
        "colab": {
          "base_uri": "https://localhost:8080/"
        },
        "id": "NppWn4F5EB0p",
        "outputId": "c258e27d-04b6-4bf8-f23e-7fc1cf083cb0"
      },
      "source": [
        "b = np.array([1, 10, 100])\n",
        "b"
      ],
      "execution_count": 21,
      "outputs": [
        {
          "output_type": "execute_result",
          "data": {
            "text/plain": [
              "array([  1,  10, 100])"
            ]
          },
          "metadata": {
            "tags": []
          },
          "execution_count": 21
        }
      ]
    },
    {
      "cell_type": "code",
      "metadata": {
        "colab": {
          "base_uri": "https://localhost:8080/"
        },
        "id": "te47rZ_wEITU",
        "outputId": "3b125914-6361-4265-efad-0a72ddb73982"
      },
      "source": [
        "np.diag(b)"
      ],
      "execution_count": 22,
      "outputs": [
        {
          "output_type": "execute_result",
          "data": {
            "text/plain": [
              "array([[  1,   0,   0],\n",
              "       [  0,  10,   0],\n",
              "       [  0,   0, 100]])"
            ]
          },
          "metadata": {
            "tags": []
          },
          "execution_count": 22
        }
      ]
    },
    {
      "cell_type": "code",
      "metadata": {
        "id": "1ac7TOWqEKmU"
      },
      "source": [
        "x_coords = np.array([1, 2, 3])\n",
        "y_coords = np.array([1, 10, 100])"
      ],
      "execution_count": 23,
      "outputs": []
    },
    {
      "cell_type": "code",
      "metadata": {
        "id": "ODBTatVNEe-A"
      },
      "source": [
        "x_mesh, y_mesh =np.meshgrid(x_coords, y_coords)"
      ],
      "execution_count": 25,
      "outputs": []
    },
    {
      "cell_type": "code",
      "metadata": {
        "colab": {
          "base_uri": "https://localhost:8080/"
        },
        "id": "iKhsmqOiEqSq",
        "outputId": "d8c12850-5b35-4729-eca2-618f5eec30d5"
      },
      "source": [
        "x_mesh"
      ],
      "execution_count": 26,
      "outputs": [
        {
          "output_type": "execute_result",
          "data": {
            "text/plain": [
              "array([[1, 2, 3],\n",
              "       [1, 2, 3],\n",
              "       [1, 2, 3]])"
            ]
          },
          "metadata": {
            "tags": []
          },
          "execution_count": 26
        }
      ]
    },
    {
      "cell_type": "code",
      "metadata": {
        "colab": {
          "base_uri": "https://localhost:8080/"
        },
        "id": "oCMutc82Euqd",
        "outputId": "ca966c2d-a649-4173-80e2-c53d758df104"
      },
      "source": [
        "y_mesh"
      ],
      "execution_count": 27,
      "outputs": [
        {
          "output_type": "execute_result",
          "data": {
            "text/plain": [
              "array([[  1,   1,   1],\n",
              "       [ 10,  10,  10],\n",
              "       [100, 100, 100]])"
            ]
          },
          "metadata": {
            "tags": []
          },
          "execution_count": 27
        }
      ]
    },
    {
      "cell_type": "code",
      "metadata": {
        "colab": {
          "base_uri": "https://localhost:8080/"
        },
        "id": "hiNya93bEwkL",
        "outputId": "3f54f054-b062-41ce-ffdd-7fa243be4df9"
      },
      "source": [
        "x_mesh.shape"
      ],
      "execution_count": 28,
      "outputs": [
        {
          "output_type": "execute_result",
          "data": {
            "text/plain": [
              "(3, 3)"
            ]
          },
          "metadata": {
            "tags": []
          },
          "execution_count": 28
        }
      ]
    },
    {
      "cell_type": "code",
      "metadata": {
        "id": "uLu_rtvAE7Sz"
      },
      "source": [
        "POINTS = 6\n",
        "SIDE = 1\n",
        "\n",
        "def build_point_positions():\n",
        "  x_coords = np.linspace(0, SIDE, POINTS)\n",
        "  y_coords = np.linspace(0, SIDE, POINTS)\n",
        "  \n",
        "  x_mesh, y_mesh = np.meshgrid(x_coords, y_coords)\n",
        "  return x_mesh.flatten(), SIDE - y_mesh.flatten()"
      ],
      "execution_count": 6,
      "outputs": []
    },
    {
      "cell_type": "code",
      "metadata": {
        "id": "38N9jKMmFjY8"
      },
      "source": [
        "x_mesh, y_mesh = build_point_positions()"
      ],
      "execution_count": 42,
      "outputs": []
    },
    {
      "cell_type": "code",
      "metadata": {
        "colab": {
          "base_uri": "https://localhost:8080/"
        },
        "id": "T9DK8m2AFlE6",
        "outputId": "9a962036-3188-4702-eb44-1e12d1fd50af"
      },
      "source": [
        "x_mesh[20]"
      ],
      "execution_count": 43,
      "outputs": [
        {
          "output_type": "execute_result",
          "data": {
            "text/plain": [
              "0.4"
            ]
          },
          "metadata": {
            "tags": []
          },
          "execution_count": 43
        }
      ]
    },
    {
      "cell_type": "code",
      "metadata": {
        "colab": {
          "base_uri": "https://localhost:8080/"
        },
        "id": "MekPCIwlFx1v",
        "outputId": "d4098aac-f373-41fd-e12b-40714affe2d8"
      },
      "source": [
        "x_mesh[14]"
      ],
      "execution_count": 44,
      "outputs": [
        {
          "output_type": "execute_result",
          "data": {
            "text/plain": [
              "0.4"
            ]
          },
          "metadata": {
            "tags": []
          },
          "execution_count": 44
        }
      ]
    },
    {
      "cell_type": "code",
      "metadata": {
        "colab": {
          "base_uri": "https://localhost:8080/"
        },
        "id": "O1w3tX7rFzch",
        "outputId": "93f5c859-7995-4138-da13-def22acc9653"
      },
      "source": [
        "x_mesh[15]"
      ],
      "execution_count": 45,
      "outputs": [
        {
          "output_type": "execute_result",
          "data": {
            "text/plain": [
              "0.6000000000000001"
            ]
          },
          "metadata": {
            "tags": []
          },
          "execution_count": 45
        }
      ]
    },
    {
      "cell_type": "code",
      "metadata": {
        "colab": {
          "base_uri": "https://localhost:8080/"
        },
        "id": "JerfxrL4F23N",
        "outputId": "5b346e44-afd3-4ce4-b7fb-ecd1322d6d8c"
      },
      "source": [
        "y_mesh[-1]"
      ],
      "execution_count": 46,
      "outputs": [
        {
          "output_type": "execute_result",
          "data": {
            "text/plain": [
              "0.0"
            ]
          },
          "metadata": {
            "tags": []
          },
          "execution_count": 46
        }
      ]
    },
    {
      "cell_type": "code",
      "metadata": {
        "colab": {
          "base_uri": "https://localhost:8080/"
        },
        "id": "pDkIeYdUF5-q",
        "outputId": "1ef34502-79b4-40bc-9bb4-53f3edd3a9ae"
      },
      "source": [
        "y_mesh[0]"
      ],
      "execution_count": 47,
      "outputs": [
        {
          "output_type": "execute_result",
          "data": {
            "text/plain": [
              "1.0"
            ]
          },
          "metadata": {
            "tags": []
          },
          "execution_count": 47
        }
      ]
    },
    {
      "cell_type": "code",
      "metadata": {
        "colab": {
          "base_uri": "https://localhost:8080/"
        },
        "id": "AIzf7TWeGbo6",
        "outputId": "250e7d79-53d0-4c77-baae-b61943b274b6"
      },
      "source": [
        "a = np.ones((4,), dtype=np.float64)\n",
        "np.diag(a, 1)"
      ],
      "execution_count": 55,
      "outputs": [
        {
          "output_type": "execute_result",
          "data": {
            "text/plain": [
              "array([[0., 1., 0., 0., 0.],\n",
              "       [0., 0., 1., 0., 0.],\n",
              "       [0., 0., 0., 1., 0.],\n",
              "       [0., 0., 0., 0., 1.],\n",
              "       [0., 0., 0., 0., 0.]])"
            ]
          },
          "metadata": {
            "tags": []
          },
          "execution_count": 55
        }
      ]
    },
    {
      "cell_type": "code",
      "metadata": {
        "id": "l_Nt47g1GD-2"
      },
      "source": [
        "def build_matrix():\n",
        "  h = SIDE / float(POINTS - 1)\n",
        "  main_diagonal = np.ones((POINTS * POINTS,), dtype=np.float64) * - 4\n",
        "  offset_1_diagonal = np.ones((POINTS * POINTS - 1,), dtype=np.float64)\n",
        "  above_and_below_points = np.ones(\n",
        "      (POINTS * POINTS - POINTS,),\n",
        "      dtype=np.float64\n",
        "  )\n",
        "  #m1 = np.diag(main_diagonal)\n",
        "  #m2 = np.diag(offset_1_diagonal, 1)\n",
        "  #m3 = np.diag(offset_1_diagonal, -1)\n",
        "  #m4 = np.diag(above_and_below_points, POINTS)\n",
        "  #m5 = np.diag(above_and_below_points, -POINTS)\n",
        "  #return m1 + m2 + m3 + m4 + m5\n",
        "\n",
        "  m = np.diag(main_diagonal) + \\\n",
        "   np.diag(offset_1_diagonal, 1) + \\\n",
        "    np.diag(offset_1_diagonal, -1) + \\\n",
        "    np.diag(above_and_below_points, POINTS) + \\\n",
        "    np.diag(above_and_below_points, -POINTS)\n",
        "  \n",
        "  m /= h * h \n",
        "\n",
        "  return m\n",
        "\n",
        "def build_rhs(f):\n",
        "  x_coords, y_coords = build_point_positions()\n",
        "  return f(x_coords, y_coords)\n"
      ],
      "execution_count": 7,
      "outputs": []
    },
    {
      "cell_type": "code",
      "metadata": {
        "colab": {
          "base_uri": "https://localhost:8080/"
        },
        "id": "6voINY_uHvk0",
        "outputId": "02ad97cb-5709-4672-a931-dcbc44172198"
      },
      "source": [
        "build_matrix()"
      ],
      "execution_count": 59,
      "outputs": [
        {
          "output_type": "execute_result",
          "data": {
            "text/plain": [
              "array([[-100.,   25.,    0., ...,    0.,    0.,    0.],\n",
              "       [  25., -100.,   25., ...,    0.,    0.,    0.],\n",
              "       [   0.,   25., -100., ...,    0.,    0.,    0.],\n",
              "       ...,\n",
              "       [   0.,    0.,    0., ..., -100.,   25.,    0.],\n",
              "       [   0.,    0.,    0., ...,   25., -100.,   25.],\n",
              "       [   0.,    0.,    0., ...,    0.,   25., -100.]])"
            ]
          },
          "metadata": {
            "tags": []
          },
          "execution_count": 59
        }
      ]
    },
    {
      "cell_type": "code",
      "metadata": {
        "id": "4fHjeteDHwx_"
      },
      "source": [
        "class Side(Enum):\n",
        "  BOTTOM = 0,\n",
        "  TOP = 1,\n",
        "  LEFT = 2,\n",
        "  RIGHT = 3\n",
        "\n",
        "def condense(m, rhs, d_gamma):\n",
        "  h = SIDE / float(POINTS - 1)\n",
        "  x_coords, y_coords = build_point_positions()\n",
        "\n",
        "  for i in range(POINTS):\n",
        "    indices = {}\n",
        "    indices[Side.TOP] = i\n",
        "    indices[Side.BOTTOM] = POINTS * (POINTS - 1) + i\n",
        "    indices[Side.LEFT] = i * POINTS\n",
        "    indices[Side.RIGHT] = i * POINTS + POINTS - 1\n",
        "\n",
        "    for s in Side:\n",
        "      index = indices[s]\n",
        "      x_point = x_coords[index]\n",
        "      y_point = y_coords[index]\n",
        "      bc_value = d_gamma(x_point, y_point)\n",
        "\n",
        "      rhs[index] = 0\n",
        "\n",
        "      # wipe out the row i\n",
        "      m[index, :] = 0\n",
        "\n",
        "      # Copy the i-th column\n",
        "      clm = m[:, index]\n",
        "\n",
        "      rhs -= clm * bc_value\n",
        "\n",
        "      # Now I can wipe out also the column\n",
        "      m[:, index] = 0\n",
        "\n",
        "      m[index, index] = -4 / (h * h)\n",
        "  \n",
        "def fix_boundary_conditions(sol, d_gamma):\n",
        "  h = SIDE / float(POINTS - 1)\n",
        "  x_coords, y_coords = build_point_positions()\n",
        "\n",
        "  for i in range(POINTS):\n",
        "    indices = {}\n",
        "    indices[Side.TOP] = i\n",
        "    indices[Side.BOTTOM] = POINTS * (POINTS - 1) + i\n",
        "    indices[Side.LEFT] = i * POINTS\n",
        "    indices[Side.RIGHT] = i * POINTS + POINTS - 1\n",
        "\n",
        "    for s in Side:\n",
        "      index = indices[s]\n",
        "      x_point = x_coords[index]\n",
        "      y_point = y_coords[index]\n",
        "      bc_value = d_gamma(x_point, y_point)\n",
        "\n",
        "      sol[index] = bc_value\n"
      ],
      "execution_count": 21,
      "outputs": []
    },
    {
      "cell_type": "code",
      "metadata": {
        "id": "hkpsTfPZMhNy"
      },
      "source": [
        "import matplotlib.pyplot as plt"
      ],
      "execution_count": 22,
      "outputs": []
    },
    {
      "cell_type": "code",
      "metadata": {
        "colab": {
          "base_uri": "https://localhost:8080/",
          "height": 293
        },
        "id": "Wdkwj08RMnU_",
        "outputId": "aa379373-064f-4a12-d54d-28445263f1ef"
      },
      "source": [
        "import numpy as np\n",
        "POINTS = 10\n",
        "\n",
        "def f(x, y):\n",
        "  if hasattr(x, \"shape\"):\n",
        "    return np.ones((x.shape[0]), dtype=np.float64)\n",
        "  return 1\n",
        "\n",
        "def d_gamma(x, y):\n",
        "  return np.sin(2.5 * np.pi * x)\n",
        "\n",
        "m = build_matrix()\n",
        "rhs = build_rhs(f)\n",
        "\n",
        "plt.matshow(m)"
      ],
      "execution_count": 23,
      "outputs": [
        {
          "output_type": "execute_result",
          "data": {
            "text/plain": [
              "<matplotlib.image.AxesImage at 0x7f311bf12ba8>"
            ]
          },
          "metadata": {
            "tags": []
          },
          "execution_count": 23
        },
        {
          "output_type": "display_data",
          "data": {
            "image/png": "[encoded data removed]",
            "text/plain": [
              "<Figure size 288x288 with 1 Axes>"
            ]
          },
          "metadata": {
            "tags": [],
            "needs_background": "light"
          }
        }
      ]
    },
    {
      "cell_type": "code",
      "metadata": {
        "colab": {
          "base_uri": "https://localhost:8080/",
          "height": 293
        },
        "id": "Z8vBvFJbM4MA",
        "outputId": "d53bb519-3ee3-4f22-eaf6-551d4fea2b44"
      },
      "source": [
        "condense(m, rhs, d_gamma)\n",
        "plt.matshow(m)\n",
        "m.shape"
      ],
      "execution_count": 24,
      "outputs": [
        {
          "output_type": "execute_result",
          "data": {
            "text/plain": [
              "(100, 100)"
            ]
          },
          "metadata": {
            "tags": []
          },
          "execution_count": 24
        },
        {
          "output_type": "display_data",
          "data": {
            "image/png": "[encoded data removed]",
            "text/plain": [
              "<Figure size 288x288 with 1 Axes>"
            ]
          },
          "metadata": {
            "tags": [],
            "needs_background": "light"
          }
        }
      ]
    },
    {
      "cell_type": "code",
      "metadata": {
        "id": "_3Vz2K8TNHli"
      },
      "source": [
        "sol = np.linalg.solve(m, rhs)"
      ],
      "execution_count": 25,
      "outputs": []
    },
    {
      "cell_type": "code",
      "metadata": {
        "colab": {
          "base_uri": "https://localhost:8080/",
          "height": 293
        },
        "id": "jvTuH-1SO5UF",
        "outputId": "5a215fb9-6493-4c73-a22d-bada39c2e804"
      },
      "source": [
        "fix_boundary_conditions(sol, d_gamma)\n",
        "sol = sol.reshape((POINTS, POINTS))\n",
        "plt.matshow(sol)"
      ],
      "execution_count": 26,
      "outputs": [
        {
          "output_type": "execute_result",
          "data": {
            "text/plain": [
              "<matplotlib.image.AxesImage at 0x7f311be43ac8>"
            ]
          },
          "metadata": {
            "tags": []
          },
          "execution_count": 26
        },
        {
          "output_type": "display_data",
          "data": {
            "image/png": "[encoded data removed]",
            "text/plain": [
              "<Figure size 288x288 with 1 Axes>"
            ]
          },
          "metadata": {
            "tags": [],
            "needs_background": "light"
          }
        }
      ]
    },
    {
      "cell_type": "code",
      "metadata": {
        "id": "4cXHG077PCZJ"
      },
      "source": [
        ""
      ],
      "execution_count": null,
      "outputs": []
    }
  ]
}